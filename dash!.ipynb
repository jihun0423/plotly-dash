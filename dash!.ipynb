{
 "cells": [
  {
   "cell_type": "code",
   "execution_count": 10,
   "id": "c9be2fd2",
   "metadata": {},
   "outputs": [],
   "source": [
    "import dash\n",
    "import dash_core_components as dcc\n",
    "import dash_html_components as html\n",
    "import pandas as pd\n",
    "import plotly.graph_objs as go\n",
    "from dash import Dash, html, dash_table\n",
    "from jupyter_dash import JupyterDash\n",
    "import pandas as pd"
   ]
  },
  {
   "cell_type": "code",
   "execution_count": null,
   "id": "cdbddc69",
   "metadata": {},
   "outputs": [],
   "source": [
    "df = pd.read_csv('C:\\\\Users\\\\jihun\\\\Downloads\\\\stats (7).csv')"
   ]
  },
  {
   "cell_type": "code",
   "execution_count": 4,
   "id": "8fe1b4e1",
   "metadata": {},
   "outputs": [
    {
     "name": "stdout",
     "output_type": "stream",
     "text": [
      "Dash is running on http://127.0.0.1:8050/\n",
      "\n",
      "Dash app running on http://127.0.0.1:8050/\n"
     ]
    }
   ],
   "source": [
    "# Import packages\n",
    "from dash import Dash, html, dash_table\n",
    "from jupyter_dash import JupyterDash\n",
    "import pandas as pd\n",
    "\n",
    "# Incorporate data\n",
    "df = pd.read_csv('C:\\\\Users\\\\jihun\\\\Downloads\\\\stats (7).csv')\n",
    "available_indicators = df['Indicator Name'].unique()\n",
    "\n",
    "# Initialize the app\n",
    "app = JupyterDash(__name__)\n",
    "\n",
    "# App layout\n",
    "app.layout = html.Div([\n",
    "    html.Div(children='My First App with Data'),\n",
    "    dash_table.DataTable(data=df.to_dict('records'), page_size=10)\n",
    "])\n",
    "\n",
    "# Run the app\n",
    "if __name__ == '__main__':\n",
    "    app.run_server(debug=True)"
   ]
  },
  {
   "cell_type": "code",
   "execution_count": null,
   "id": "16c1a841",
   "metadata": {},
   "outputs": [],
   "source": []
  },
  {
   "cell_type": "code",
   "execution_count": 39,
   "id": "8211f587",
   "metadata": {},
   "outputs": [],
   "source": [
    "df = pd.read_csv('C:\\\\Users\\\\jihun\\\\Downloads\\\\stats (7).csv')"
   ]
  },
  {
   "cell_type": "code",
   "execution_count": 24,
   "id": "6f5e9796",
   "metadata": {},
   "outputs": [
    {
     "data": {
      "text/plain": [
       "Index(['last_name', ' first_name', 'player_id', 'year', 'p_k_percent',\n",
       "       'p_bb_percent', 'xwoba', 'z_swing_percent', 'z_swing_miss_percent',\n",
       "       'oz_swing_percent', 'oz_swing_miss_percent', 'oz_contact_percent',\n",
       "       'out_zone_percent', 'iz_contact_percent', 'in_zone_percent',\n",
       "       'edge_percent', 'whiff_percent', 'fastball_avg_speed',\n",
       "       'fastball_avg_spin', 'fastball_avg_break', 'breaking_avg_speed',\n",
       "       'breaking_avg_spin', 'breaking_avg_break', 'offspeed_avg_speed',\n",
       "       'offspeed_avg_spin', 'offspeed_avg_break', 'Unnamed: 26'],\n",
       "      dtype='object')"
      ]
     },
     "execution_count": 24,
     "metadata": {},
     "output_type": "execute_result"
    }
   ],
   "source": [
    "df.columns"
   ]
  },
  {
   "cell_type": "code",
   "execution_count": 40,
   "id": "b3c17f50",
   "metadata": {},
   "outputs": [],
   "source": [
    "numerical_col = ['p_k_percent',\n",
    "       'p_bb_percent', 'xwoba', 'z_swing_percent', 'z_swing_miss_percent',\n",
    "       'oz_swing_percent', 'oz_swing_miss_percent', 'oz_contact_percent',\n",
    "       'out_zone_percent', 'iz_contact_percent', 'in_zone_percent',\n",
    "       'edge_percent', 'whiff_percent', 'fastball_avg_speed',\n",
    "       'fastball_avg_spin', 'fastball_avg_break', 'breaking_avg_speed',\n",
    "       'breaking_avg_spin', 'breaking_avg_break', 'offspeed_avg_speed',\n",
    "       'offspeed_avg_spin', 'offspeed_avg_break']"
   ]
  },
  {
   "cell_type": "code",
   "execution_count": 42,
   "id": "800770b8",
   "metadata": {},
   "outputs": [
    {
     "name": "stdout",
     "output_type": "stream",
     "text": [
      "Dash is running on http://127.0.0.1:8050/\n",
      "\n",
      "Dash app running on http://127.0.0.1:8050/\n"
     ]
    }
   ],
   "source": [
    "external_stylesheets = ['https://codepen.io/chriddyp/pen/bWLwgP.css']\n",
    "app = JupyterDash(__name__, external_stylesheets=[dbc.themes.BOOTSTRAP])\n",
    "# app = JupyterDash(__name__,external_stylesheets=external_stylesheets)\n",
    "app.layout = html.Div([\n",
    "    html.Div([\n",
    "\n",
    "        html.Div([\n",
    "            dcc.Dropdown(\n",
    "                id='xaxis-column',\n",
    "                options=numerical_col,\n",
    "                value=numerical_col[0],\n",
    "                placeholder=\"Select X-axis column\"\n",
    "            ),\n",
    "            dcc.RadioItems(\n",
    "                id='xaxis-type',\n",
    "                options=[{'label': i, 'value': i} for i in ['Linear', 'Log']],\n",
    "                value='Linear',\n",
    "                labelStyle={'display': 'inline-block'}\n",
    "            )\n",
    "        ],\n",
    "        style={'width': '48%', 'display': 'inline-block'}),\n",
    "\n",
    "        html.Div([\n",
    "            dcc.Dropdown(\n",
    "                id='yaxis-column',\n",
    "                options=numerical_col,\n",
    "                value=numerical_col[1]\n",
    "            ),\n",
    "            dcc.RadioItems(\n",
    "                id='yaxis-type',\n",
    "                options=[{'label': i, 'value': i} for i in ['Linear', 'Log']],\n",
    "                value='Linear',\n",
    "                labelStyle={'display': 'inline-block'}\n",
    "            )\n",
    "        ],style={'width': '48%', 'float': 'right', 'display': 'inline-block'})\n",
    "    ]),\n",
    "\n",
    "    dcc.Graph(id='indicator-graphic'),\n",
    "\n",
    "    dcc.Slider(\n",
    "        id='year--slider',\n",
    "        min=df['year'].min(),\n",
    "        max=df['year'].max(),\n",
    "        value=df['year'].max(),\n",
    "        marks={str(year): str(year) for year in df['year'].unique()}\n",
    "    )\n",
    "])\n",
    "\n",
    "# Callbacks\n",
    "@app.callback(\n",
    "    dash.dependencies.Output('indicator-graphic', 'figure'),\n",
    "    [dash.dependencies.Input('xaxis-column', 'value'),\n",
    "     dash.dependencies.Input('yaxis-column', 'value'),\n",
    "     dash.dependencies.Input('xaxis-type', 'value'),\n",
    "     dash.dependencies.Input('yaxis-type', 'value'),\n",
    "     dash.dependencies.Input('year--slider', 'value')])\n",
    "def update_graph(xaxis_column_name, yaxis_column_name,\n",
    "                 xaxis_type, yaxis_type,\n",
    "                 year_value):\n",
    "    dff = df[df['year'] == year_value]\n",
    "    return {\n",
    "        'data': [go.Scatter(\n",
    "            x=dff[xaxis_column_name],\n",
    "            y=dff[yaxis_column_name],\n",
    "            text=dff['last_name'],\n",
    "            mode='markers',\n",
    "            marker={\n",
    "                'size': 10,\n",
    "                'opacity': 1,\n",
    "                'color': 'blue',\n",
    "                'line': {'width': 2}\n",
    "            }\n",
    "        )],\n",
    "        'layout': go.Layout(\n",
    "            xaxis={\n",
    "                'title': xaxis_column_name,\n",
    "                'type': 'linear' if xaxis_type == 'Linear' else 'log'\n",
    "            },\n",
    "            yaxis={\n",
    "                'title': yaxis_column_name,\n",
    "                'type': 'linear' if yaxis_type == 'Linear' else 'log'\n",
    "            },\n",
    "            margin={'l': 40, 'b': 40, 't': 10, 'r': 0},\n",
    "            hovermode='closest',\n",
    "        )\n",
    "    }\n",
    "\n",
    "# viewer.show(app)\n",
    "if __name__ == '__main__':\n",
    "    app.run_server(debug=True)"
   ]
  },
  {
   "cell_type": "code",
   "execution_count": null,
   "id": "c368b9c5",
   "metadata": {},
   "outputs": [],
   "source": []
  },
  {
   "cell_type": "code",
   "execution_count": null,
   "id": "ea937918",
   "metadata": {},
   "outputs": [],
   "source": []
  },
  {
   "cell_type": "code",
   "execution_count": 29,
   "id": "98a314b6",
   "metadata": {},
   "outputs": [],
   "source": [
    "df = pd.read_csv('C:\\\\Users\\\\jihun\\\\Downloads\\\\stats (7).csv')"
   ]
  },
  {
   "cell_type": "code",
   "execution_count": 43,
   "id": "c3c267d0",
   "metadata": {},
   "outputs": [
    {
     "name": "stdout",
     "output_type": "stream",
     "text": [
      "Dash is running on http://127.0.0.1:8050/\n",
      "\n",
      "Dash app running on http://127.0.0.1:8050/\n"
     ]
    }
   ],
   "source": [
    "from dash import Dash, html, dcc\n",
    "import dash_bootstrap_components as dbc\n",
    "from dash_bootstrap_templates import load_figure_template\n",
    "import plotly.express as px\n",
    "import dash\n",
    "import pandas as pd\n",
    "import plotly.graph_objs as go\n",
    "from jupyter_dash import JupyterDash\n",
    "\n",
    "df = px.data.gapminder()\n",
    "\n",
    "templates = [\n",
    "    \"bootstrap\",\n",
    "    \"minty\",\n",
    "    \"pulse\",\n",
    "    \"flatly\",\n",
    "    \"quartz\",\n",
    "    \"cyborg\",\n",
    "    \"darkly\",\n",
    "    \"vapor\",\n",
    "]\n",
    "\n",
    "load_figure_template(templates)\n",
    "\n",
    "figures = [\n",
    "    px.scatter(\n",
    "        df.query(\"year==2007\"),\n",
    "        x=\"gdpPercap\",\n",
    "        y=\"lifeExp\",\n",
    "        size=\"pop\",\n",
    "        color=\"continent\",\n",
    "        log_x=True,\n",
    "        size_max=60,\n",
    "        template=template,\n",
    "        title=\"Gapminder 2007: '%s' theme\" % template,\n",
    "    )\n",
    "    for template in templates\n",
    "]\n",
    "\n",
    "dbc_css = (\"https://cdn.jsdelivr.net/gh/AnnMarieW/dash-bootstrap-templates@V1.0.2/dbc.min.css\")\n",
    "app = JupyterDash(__name__, external_stylesheets=[dbc.themes.BOOTSTRAP, dbc_css])\n",
    "\n",
    "app.layout = dbc.Container([dcc.Graph(figure=fig, className=\"m-4\") for fig in figures])\n",
    "\n",
    "if __name__ == \"__main__\":\n",
    "    app.run_server(debug=True)"
   ]
  },
  {
   "cell_type": "code",
   "execution_count": 4,
   "id": "4084788e",
   "metadata": {},
   "outputs": [
    {
     "data": {
      "text/html": [
       "<div>\n",
       "<style scoped>\n",
       "    .dataframe tbody tr th:only-of-type {\n",
       "        vertical-align: middle;\n",
       "    }\n",
       "\n",
       "    .dataframe tbody tr th {\n",
       "        vertical-align: top;\n",
       "    }\n",
       "\n",
       "    .dataframe thead th {\n",
       "        text-align: right;\n",
       "    }\n",
       "</style>\n",
       "<table border=\"1\" class=\"dataframe\">\n",
       "  <thead>\n",
       "    <tr style=\"text-align: right;\">\n",
       "      <th></th>\n",
       "      <th>last_name</th>\n",
       "      <th>first_name</th>\n",
       "      <th>player_id</th>\n",
       "      <th>year</th>\n",
       "      <th>p_k_percent</th>\n",
       "      <th>p_bb_percent</th>\n",
       "      <th>xwoba</th>\n",
       "      <th>z_swing_percent</th>\n",
       "      <th>z_swing_miss_percent</th>\n",
       "      <th>oz_swing_percent</th>\n",
       "      <th>...</th>\n",
       "      <th>fastball_avg_speed</th>\n",
       "      <th>fastball_avg_spin</th>\n",
       "      <th>fastball_avg_break</th>\n",
       "      <th>breaking_avg_speed</th>\n",
       "      <th>breaking_avg_spin</th>\n",
       "      <th>breaking_avg_break</th>\n",
       "      <th>offspeed_avg_speed</th>\n",
       "      <th>offspeed_avg_spin</th>\n",
       "      <th>offspeed_avg_break</th>\n",
       "      <th>Unnamed: 26</th>\n",
       "    </tr>\n",
       "  </thead>\n",
       "  <tbody>\n",
       "    <tr>\n",
       "      <th>0</th>\n",
       "      <td>Perez</td>\n",
       "      <td>Oliver</td>\n",
       "      <td>424144</td>\n",
       "      <td>2020</td>\n",
       "      <td>19.4</td>\n",
       "      <td>8.3</td>\n",
       "      <td>0.274</td>\n",
       "      <td>62.3</td>\n",
       "      <td>10.6</td>\n",
       "      <td>23.8</td>\n",
       "      <td>...</td>\n",
       "      <td>89.9</td>\n",
       "      <td>2114</td>\n",
       "      <td>19.4</td>\n",
       "      <td>76.1</td>\n",
       "      <td>2195.0</td>\n",
       "      <td>10.3</td>\n",
       "      <td>NaN</td>\n",
       "      <td>NaN</td>\n",
       "      <td>NaN</td>\n",
       "      <td>NaN</td>\n",
       "    </tr>\n",
       "    <tr>\n",
       "      <th>1</th>\n",
       "      <td>Wainwright</td>\n",
       "      <td>Adam</td>\n",
       "      <td>425794</td>\n",
       "      <td>2020</td>\n",
       "      <td>20.6</td>\n",
       "      <td>5.7</td>\n",
       "      <td>0.324</td>\n",
       "      <td>62.9</td>\n",
       "      <td>15.2</td>\n",
       "      <td>30.2</td>\n",
       "      <td>...</td>\n",
       "      <td>87.6</td>\n",
       "      <td>2253</td>\n",
       "      <td>13.5</td>\n",
       "      <td>73.5</td>\n",
       "      <td>2791.0</td>\n",
       "      <td>22.0</td>\n",
       "      <td>81.8</td>\n",
       "      <td>1683.0</td>\n",
       "      <td>15.3</td>\n",
       "      <td>NaN</td>\n",
       "    </tr>\n",
       "    <tr>\n",
       "      <th>2</th>\n",
       "      <td>Greinke</td>\n",
       "      <td>Zack</td>\n",
       "      <td>425844</td>\n",
       "      <td>2020</td>\n",
       "      <td>24.5</td>\n",
       "      <td>3.3</td>\n",
       "      <td>0.299</td>\n",
       "      <td>59.7</td>\n",
       "      <td>17.0</td>\n",
       "      <td>26.3</td>\n",
       "      <td>...</td>\n",
       "      <td>88.1</td>\n",
       "      <td>2327</td>\n",
       "      <td>17.6</td>\n",
       "      <td>77.7</td>\n",
       "      <td>2425.0</td>\n",
       "      <td>12.2</td>\n",
       "      <td>86.2</td>\n",
       "      <td>1668.0</td>\n",
       "      <td>14.0</td>\n",
       "      <td>NaN</td>\n",
       "    </tr>\n",
       "    <tr>\n",
       "      <th>3</th>\n",
       "      <td>Petit</td>\n",
       "      <td>Yusmeiro</td>\n",
       "      <td>433589</td>\n",
       "      <td>2020</td>\n",
       "      <td>19.3</td>\n",
       "      <td>5.7</td>\n",
       "      <td>0.328</td>\n",
       "      <td>73.2</td>\n",
       "      <td>22.6</td>\n",
       "      <td>31.6</td>\n",
       "      <td>...</td>\n",
       "      <td>86.7</td>\n",
       "      <td>2134</td>\n",
       "      <td>17.4</td>\n",
       "      <td>74.3</td>\n",
       "      <td>2000.0</td>\n",
       "      <td>13.3</td>\n",
       "      <td>81.3</td>\n",
       "      <td>1753.0</td>\n",
       "      <td>18.3</td>\n",
       "      <td>NaN</td>\n",
       "    </tr>\n",
       "    <tr>\n",
       "      <th>4</th>\n",
       "      <td>Sanchez</td>\n",
       "      <td>Anibal</td>\n",
       "      <td>434671</td>\n",
       "      <td>2020</td>\n",
       "      <td>17.6</td>\n",
       "      <td>7.3</td>\n",
       "      <td>0.355</td>\n",
       "      <td>70.3</td>\n",
       "      <td>16.8</td>\n",
       "      <td>28.7</td>\n",
       "      <td>...</td>\n",
       "      <td>88.6</td>\n",
       "      <td>2152</td>\n",
       "      <td>16.2</td>\n",
       "      <td>76.8</td>\n",
       "      <td>2044.0</td>\n",
       "      <td>4.9</td>\n",
       "      <td>79.6</td>\n",
       "      <td>1492.0</td>\n",
       "      <td>15.0</td>\n",
       "      <td>NaN</td>\n",
       "    </tr>\n",
       "  </tbody>\n",
       "</table>\n",
       "<p>5 rows × 27 columns</p>\n",
       "</div>"
      ],
      "text/plain": [
       "    last_name  first_name  player_id  year  p_k_percent  p_bb_percent  xwoba  \\\n",
       "0       Perez      Oliver     424144  2020         19.4           8.3  0.274   \n",
       "1  Wainwright        Adam     425794  2020         20.6           5.7  0.324   \n",
       "2     Greinke        Zack     425844  2020         24.5           3.3  0.299   \n",
       "3       Petit    Yusmeiro     433589  2020         19.3           5.7  0.328   \n",
       "4     Sanchez      Anibal     434671  2020         17.6           7.3  0.355   \n",
       "\n",
       "   z_swing_percent  z_swing_miss_percent  oz_swing_percent  ...  \\\n",
       "0             62.3                  10.6              23.8  ...   \n",
       "1             62.9                  15.2              30.2  ...   \n",
       "2             59.7                  17.0              26.3  ...   \n",
       "3             73.2                  22.6              31.6  ...   \n",
       "4             70.3                  16.8              28.7  ...   \n",
       "\n",
       "   fastball_avg_speed  fastball_avg_spin  fastball_avg_break  \\\n",
       "0                89.9               2114                19.4   \n",
       "1                87.6               2253                13.5   \n",
       "2                88.1               2327                17.6   \n",
       "3                86.7               2134                17.4   \n",
       "4                88.6               2152                16.2   \n",
       "\n",
       "   breaking_avg_speed  breaking_avg_spin  breaking_avg_break  \\\n",
       "0                76.1             2195.0                10.3   \n",
       "1                73.5             2791.0                22.0   \n",
       "2                77.7             2425.0                12.2   \n",
       "3                74.3             2000.0                13.3   \n",
       "4                76.8             2044.0                 4.9   \n",
       "\n",
       "   offspeed_avg_speed  offspeed_avg_spin  offspeed_avg_break  Unnamed: 26  \n",
       "0                 NaN                NaN                 NaN          NaN  \n",
       "1                81.8             1683.0                15.3          NaN  \n",
       "2                86.2             1668.0                14.0          NaN  \n",
       "3                81.3             1753.0                18.3          NaN  \n",
       "4                79.6             1492.0                15.0          NaN  \n",
       "\n",
       "[5 rows x 27 columns]"
      ]
     },
     "execution_count": 4,
     "metadata": {},
     "output_type": "execute_result"
    }
   ],
   "source": [
    "df.head(5)"
   ]
  },
  {
   "cell_type": "code",
   "execution_count": 53,
   "id": "a83c7323",
   "metadata": {},
   "outputs": [
    {
     "name": "stderr",
     "output_type": "stream",
     "text": [
      "C:\\Users\\jihun\\AppData\\Local\\Temp\\ipykernel_10676\\3906231937.py:1: FutureWarning:\n",
      "\n",
      "Indexing with multiple keys (implicitly converted to a tuple of keys) will be deprecated, use a list instead.\n",
      "\n"
     ]
    }
   ],
   "source": [
    "dff=df.groupby('year')['p_k_percent','p_bb_percent','whiff_percent','fastball_avg_speed','fastball_avg_spin','breaking_avg_spin','xwoba'].agg('mean')"
   ]
  },
  {
   "cell_type": "code",
   "execution_count": 18,
   "id": "955603e7",
   "metadata": {},
   "outputs": [],
   "source": [
    "dff=dff.reset_index()"
   ]
  },
  {
   "cell_type": "code",
   "execution_count": 20,
   "id": "a1390945",
   "metadata": {},
   "outputs": [
    {
     "data": {
      "text/html": [
       "<div>\n",
       "<style scoped>\n",
       "    .dataframe tbody tr th:only-of-type {\n",
       "        vertical-align: middle;\n",
       "    }\n",
       "\n",
       "    .dataframe tbody tr th {\n",
       "        vertical-align: top;\n",
       "    }\n",
       "\n",
       "    .dataframe thead th {\n",
       "        text-align: right;\n",
       "    }\n",
       "</style>\n",
       "<table border=\"1\" class=\"dataframe\">\n",
       "  <thead>\n",
       "    <tr style=\"text-align: right;\">\n",
       "      <th></th>\n",
       "      <th>year</th>\n",
       "      <th>p_k_percent</th>\n",
       "      <th>p_bb_percent</th>\n",
       "      <th>whiff_percent</th>\n",
       "      <th>fastball_avg_speed</th>\n",
       "      <th>fastball_avg_spin</th>\n",
       "      <th>breaking_avg_spin</th>\n",
       "      <th>xwoba</th>\n",
       "    </tr>\n",
       "  </thead>\n",
       "  <tbody>\n",
       "    <tr>\n",
       "      <th>0</th>\n",
       "      <td>2016</td>\n",
       "      <td>21.104407</td>\n",
       "      <td>8.834068</td>\n",
       "      <td>23.638644</td>\n",
       "      <td>92.552712</td>\n",
       "      <td>2226.123729</td>\n",
       "      <td>2332.695205</td>\n",
       "      <td>0.317558</td>\n",
       "    </tr>\n",
       "    <tr>\n",
       "      <th>1</th>\n",
       "      <td>2017</td>\n",
       "      <td>21.508725</td>\n",
       "      <td>8.960906</td>\n",
       "      <td>24.278356</td>\n",
       "      <td>92.462919</td>\n",
       "      <td>2222.664430</td>\n",
       "      <td>2384.263959</td>\n",
       "      <td>0.320285</td>\n",
       "    </tr>\n",
       "    <tr>\n",
       "      <th>2</th>\n",
       "      <td>2018</td>\n",
       "      <td>21.944715</td>\n",
       "      <td>8.994959</td>\n",
       "      <td>24.811057</td>\n",
       "      <td>92.502114</td>\n",
       "      <td>2236.099187</td>\n",
       "      <td>2409.950900</td>\n",
       "      <td>0.317301</td>\n",
       "    </tr>\n",
       "    <tr>\n",
       "      <th>3</th>\n",
       "      <td>2019</td>\n",
       "      <td>22.664501</td>\n",
       "      <td>9.331854</td>\n",
       "      <td>25.553566</td>\n",
       "      <td>92.795563</td>\n",
       "      <td>2258.148970</td>\n",
       "      <td>2448.880383</td>\n",
       "      <td>0.325685</td>\n",
       "    </tr>\n",
       "    <tr>\n",
       "      <th>4</th>\n",
       "      <td>2020</td>\n",
       "      <td>23.946482</td>\n",
       "      <td>9.359488</td>\n",
       "      <td>26.830277</td>\n",
       "      <td>92.648614</td>\n",
       "      <td>2268.746269</td>\n",
       "      <td>2448.149675</td>\n",
       "      <td>0.318959</td>\n",
       "    </tr>\n",
       "    <tr>\n",
       "      <th>5</th>\n",
       "      <td>2021</td>\n",
       "      <td>22.810152</td>\n",
       "      <td>9.491970</td>\n",
       "      <td>25.650000</td>\n",
       "      <td>93.026212</td>\n",
       "      <td>2239.936364</td>\n",
       "      <td>2413.809451</td>\n",
       "      <td>0.320906</td>\n",
       "    </tr>\n",
       "    <tr>\n",
       "      <th>6</th>\n",
       "      <td>2022</td>\n",
       "      <td>22.303297</td>\n",
       "      <td>8.863893</td>\n",
       "      <td>25.618995</td>\n",
       "      <td>93.383046</td>\n",
       "      <td>2244.770801</td>\n",
       "      <td>2427.988924</td>\n",
       "      <td>0.311432</td>\n",
       "    </tr>\n",
       "  </tbody>\n",
       "</table>\n",
       "</div>"
      ],
      "text/plain": [
       "   year  p_k_percent  p_bb_percent  whiff_percent  fastball_avg_speed  \\\n",
       "0  2016    21.104407      8.834068      23.638644           92.552712   \n",
       "1  2017    21.508725      8.960906      24.278356           92.462919   \n",
       "2  2018    21.944715      8.994959      24.811057           92.502114   \n",
       "3  2019    22.664501      9.331854      25.553566           92.795563   \n",
       "4  2020    23.946482      9.359488      26.830277           92.648614   \n",
       "5  2021    22.810152      9.491970      25.650000           93.026212   \n",
       "6  2022    22.303297      8.863893      25.618995           93.383046   \n",
       "\n",
       "   fastball_avg_spin  breaking_avg_spin     xwoba  \n",
       "0        2226.123729        2332.695205  0.317558  \n",
       "1        2222.664430        2384.263959  0.320285  \n",
       "2        2236.099187        2409.950900  0.317301  \n",
       "3        2258.148970        2448.880383  0.325685  \n",
       "4        2268.746269        2448.149675  0.318959  \n",
       "5        2239.936364        2413.809451  0.320906  \n",
       "6        2244.770801        2427.988924  0.311432  "
      ]
     },
     "execution_count": 20,
     "metadata": {},
     "output_type": "execute_result"
    }
   ],
   "source": [
    "dff"
   ]
  },
  {
   "cell_type": "code",
   "execution_count": 25,
   "id": "a7599bbc",
   "metadata": {},
   "outputs": [
    {
     "data": {
      "application/vnd.plotly.v1+json": {
       "config": {
        "plotlyServerURL": "https://plot.ly"
       },
       "data": [
        {
         "dimensions": [
          {
           "label": "p_k_percent",
           "values": [
            21.10440677966102,
            21.508724832214767,
            21.944715447154472,
            22.664500792393024,
            23.946481876332623,
            22.810151515151517,
            22.303296703296706
           ]
          },
          {
           "label": "p_bb_percent",
           "values": [
            8.83406779661017,
            8.960906040268457,
            8.994959349593495,
            9.331854199683042,
            9.359488272921109,
            9.491969696969697,
            8.863893249607536
           ]
          },
          {
           "label": "fastball_avg_speed",
           "values": [
            92.55271186440677,
            92.46291946308725,
            92.50211382113821,
            92.79556259904913,
            92.64861407249467,
            93.02621212121213,
            93.38304552590267
           ]
          },
          {
           "label": "fastball_avg_spin",
           "values": [
            2226.1237288135594,
            2222.6644295302012,
            2236.09918699187,
            2258.148969889065,
            2268.7462686567164,
            2239.9363636363637,
            2244.7708006279436
           ]
          },
          {
           "label": "breaking_avg_spin",
           "values": [
            2332.695205479452,
            2384.263959390863,
            2409.950900163666,
            2448.8803827751194,
            2448.1496746203907,
            2413.809451219512,
            2427.9889240506327
           ]
          }
         ],
         "domain": {
          "x": [
           0,
           1
          ],
          "y": [
           0,
           1
          ]
         },
         "line": {
          "color": [
           2016,
           2017,
           2018,
           2019,
           2020,
           2021,
           2022
          ],
          "coloraxis": "coloraxis"
         },
         "name": "",
         "type": "parcoords"
        }
       ],
       "layout": {
        "coloraxis": {
         "cmax": 2022,
         "cmid": 2,
         "cmin": 2016,
         "colorbar": {
          "title": {
           "text": "year"
          }
         },
         "colorscale": [
          [
           0,
           "rgb(0, 147, 146)"
          ],
          [
           0.16666666666666666,
           "rgb(114, 170, 161)"
          ],
          [
           0.3333333333333333,
           "rgb(177, 199, 179)"
          ],
          [
           0.5,
           "rgb(241, 234, 200)"
          ],
          [
           0.6666666666666666,
           "rgb(229, 185, 173)"
          ],
          [
           0.8333333333333334,
           "rgb(217, 137, 148)"
          ],
          [
           1,
           "rgb(208, 88, 126)"
          ]
         ]
        },
        "legend": {
         "tracegroupgap": 0
        },
        "margin": {
         "t": 60
        },
        "template": {
         "data": {
          "bar": [
           {
            "error_x": {
             "color": "#f2f5fa"
            },
            "error_y": {
             "color": "#f2f5fa"
            },
            "marker": {
             "line": {
              "color": "rgb(17,17,17)",
              "width": 0.5
             },
             "pattern": {
              "fillmode": "overlay",
              "size": 10,
              "solidity": 0.2
             }
            },
            "type": "bar"
           }
          ],
          "barpolar": [
           {
            "marker": {
             "line": {
              "color": "rgb(17,17,17)",
              "width": 0.5
             },
             "pattern": {
              "fillmode": "overlay",
              "size": 10,
              "solidity": 0.2
             }
            },
            "type": "barpolar"
           }
          ],
          "carpet": [
           {
            "aaxis": {
             "endlinecolor": "#A2B1C6",
             "gridcolor": "#506784",
             "linecolor": "#506784",
             "minorgridcolor": "#506784",
             "startlinecolor": "#A2B1C6"
            },
            "baxis": {
             "endlinecolor": "#A2B1C6",
             "gridcolor": "#506784",
             "linecolor": "#506784",
             "minorgridcolor": "#506784",
             "startlinecolor": "#A2B1C6"
            },
            "type": "carpet"
           }
          ],
          "choropleth": [
           {
            "colorbar": {
             "outlinewidth": 0,
             "ticks": ""
            },
            "type": "choropleth"
           }
          ],
          "contour": [
           {
            "colorbar": {
             "outlinewidth": 0,
             "ticks": ""
            },
            "colorscale": [
             [
              0,
              "#0d0887"
             ],
             [
              0.1111111111111111,
              "#46039f"
             ],
             [
              0.2222222222222222,
              "#7201a8"
             ],
             [
              0.3333333333333333,
              "#9c179e"
             ],
             [
              0.4444444444444444,
              "#bd3786"
             ],
             [
              0.5555555555555556,
              "#d8576b"
             ],
             [
              0.6666666666666666,
              "#ed7953"
             ],
             [
              0.7777777777777778,
              "#fb9f3a"
             ],
             [
              0.8888888888888888,
              "#fdca26"
             ],
             [
              1,
              "#f0f921"
             ]
            ],
            "type": "contour"
           }
          ],
          "contourcarpet": [
           {
            "colorbar": {
             "outlinewidth": 0,
             "ticks": ""
            },
            "type": "contourcarpet"
           }
          ],
          "heatmap": [
           {
            "colorbar": {
             "outlinewidth": 0,
             "ticks": ""
            },
            "colorscale": [
             [
              0,
              "#0d0887"
             ],
             [
              0.1111111111111111,
              "#46039f"
             ],
             [
              0.2222222222222222,
              "#7201a8"
             ],
             [
              0.3333333333333333,
              "#9c179e"
             ],
             [
              0.4444444444444444,
              "#bd3786"
             ],
             [
              0.5555555555555556,
              "#d8576b"
             ],
             [
              0.6666666666666666,
              "#ed7953"
             ],
             [
              0.7777777777777778,
              "#fb9f3a"
             ],
             [
              0.8888888888888888,
              "#fdca26"
             ],
             [
              1,
              "#f0f921"
             ]
            ],
            "type": "heatmap"
           }
          ],
          "heatmapgl": [
           {
            "colorbar": {
             "outlinewidth": 0,
             "ticks": ""
            },
            "colorscale": [
             [
              0,
              "#0d0887"
             ],
             [
              0.1111111111111111,
              "#46039f"
             ],
             [
              0.2222222222222222,
              "#7201a8"
             ],
             [
              0.3333333333333333,
              "#9c179e"
             ],
             [
              0.4444444444444444,
              "#bd3786"
             ],
             [
              0.5555555555555556,
              "#d8576b"
             ],
             [
              0.6666666666666666,
              "#ed7953"
             ],
             [
              0.7777777777777778,
              "#fb9f3a"
             ],
             [
              0.8888888888888888,
              "#fdca26"
             ],
             [
              1,
              "#f0f921"
             ]
            ],
            "type": "heatmapgl"
           }
          ],
          "histogram": [
           {
            "marker": {
             "pattern": {
              "fillmode": "overlay",
              "size": 10,
              "solidity": 0.2
             }
            },
            "type": "histogram"
           }
          ],
          "histogram2d": [
           {
            "colorbar": {
             "outlinewidth": 0,
             "ticks": ""
            },
            "colorscale": [
             [
              0,
              "#0d0887"
             ],
             [
              0.1111111111111111,
              "#46039f"
             ],
             [
              0.2222222222222222,
              "#7201a8"
             ],
             [
              0.3333333333333333,
              "#9c179e"
             ],
             [
              0.4444444444444444,
              "#bd3786"
             ],
             [
              0.5555555555555556,
              "#d8576b"
             ],
             [
              0.6666666666666666,
              "#ed7953"
             ],
             [
              0.7777777777777778,
              "#fb9f3a"
             ],
             [
              0.8888888888888888,
              "#fdca26"
             ],
             [
              1,
              "#f0f921"
             ]
            ],
            "type": "histogram2d"
           }
          ],
          "histogram2dcontour": [
           {
            "colorbar": {
             "outlinewidth": 0,
             "ticks": ""
            },
            "colorscale": [
             [
              0,
              "#0d0887"
             ],
             [
              0.1111111111111111,
              "#46039f"
             ],
             [
              0.2222222222222222,
              "#7201a8"
             ],
             [
              0.3333333333333333,
              "#9c179e"
             ],
             [
              0.4444444444444444,
              "#bd3786"
             ],
             [
              0.5555555555555556,
              "#d8576b"
             ],
             [
              0.6666666666666666,
              "#ed7953"
             ],
             [
              0.7777777777777778,
              "#fb9f3a"
             ],
             [
              0.8888888888888888,
              "#fdca26"
             ],
             [
              1,
              "#f0f921"
             ]
            ],
            "type": "histogram2dcontour"
           }
          ],
          "mesh3d": [
           {
            "colorbar": {
             "outlinewidth": 0,
             "ticks": ""
            },
            "type": "mesh3d"
           }
          ],
          "parcoords": [
           {
            "line": {
             "colorbar": {
              "outlinewidth": 0,
              "ticks": ""
             }
            },
            "type": "parcoords"
           }
          ],
          "pie": [
           {
            "automargin": true,
            "type": "pie"
           }
          ],
          "scatter": [
           {
            "marker": {
             "line": {
              "color": "#060606"
             }
            },
            "type": "scatter"
           }
          ],
          "scatter3d": [
           {
            "line": {
             "colorbar": {
              "outlinewidth": 0,
              "ticks": ""
             }
            },
            "marker": {
             "colorbar": {
              "outlinewidth": 0,
              "ticks": ""
             }
            },
            "type": "scatter3d"
           }
          ],
          "scattercarpet": [
           {
            "marker": {
             "colorbar": {
              "outlinewidth": 0,
              "ticks": ""
             }
            },
            "type": "scattercarpet"
           }
          ],
          "scattergeo": [
           {
            "marker": {
             "colorbar": {
              "outlinewidth": 0,
              "ticks": ""
             }
            },
            "type": "scattergeo"
           }
          ],
          "scattergl": [
           {
            "marker": {
             "line": {
              "color": "#060606"
             }
            },
            "type": "scattergl"
           }
          ],
          "scattermapbox": [
           {
            "marker": {
             "colorbar": {
              "outlinewidth": 0,
              "ticks": ""
             }
            },
            "type": "scattermapbox"
           }
          ],
          "scatterpolar": [
           {
            "marker": {
             "colorbar": {
              "outlinewidth": 0,
              "ticks": ""
             }
            },
            "type": "scatterpolar"
           }
          ],
          "scatterpolargl": [
           {
            "marker": {
             "colorbar": {
              "outlinewidth": 0,
              "ticks": ""
             }
            },
            "type": "scatterpolargl"
           }
          ],
          "scatterternary": [
           {
            "marker": {
             "colorbar": {
              "outlinewidth": 0,
              "ticks": ""
             }
            },
            "type": "scatterternary"
           }
          ],
          "surface": [
           {
            "colorbar": {
             "outlinewidth": 0,
             "ticks": ""
            },
            "colorscale": [
             [
              0,
              "#0d0887"
             ],
             [
              0.1111111111111111,
              "#46039f"
             ],
             [
              0.2222222222222222,
              "#7201a8"
             ],
             [
              0.3333333333333333,
              "#9c179e"
             ],
             [
              0.4444444444444444,
              "#bd3786"
             ],
             [
              0.5555555555555556,
              "#d8576b"
             ],
             [
              0.6666666666666666,
              "#ed7953"
             ],
             [
              0.7777777777777778,
              "#fb9f3a"
             ],
             [
              0.8888888888888888,
              "#fdca26"
             ],
             [
              1,
              "#f0f921"
             ]
            ],
            "type": "surface"
           }
          ],
          "table": [
           {
            "cells": {
             "fill": {
              "color": "#506784"
             },
             "line": {
              "color": "rgb(17,17,17)"
             }
            },
            "header": {
             "fill": {
              "color": "#2a3f5f"
             },
             "line": {
              "color": "rgb(17,17,17)"
             }
            },
            "type": "table"
           }
          ]
         },
         "layout": {
          "annotationdefaults": {
           "arrowcolor": "#f2f5fa",
           "arrowhead": 0,
           "arrowwidth": 1,
           "font": {
            "color": "#adafae"
           }
          },
          "autotypenumbers": "strict",
          "coloraxis": {
           "colorbar": {
            "outlinewidth": 0,
            "ticks": ""
           }
          },
          "colorscale": {
           "diverging": [
            [
             0,
             "#8e0152"
            ],
            [
             0.1,
             "#c51b7d"
            ],
            [
             0.2,
             "#de77ae"
            ],
            [
             0.3,
             "#f1b6da"
            ],
            [
             0.4,
             "#fde0ef"
            ],
            [
             0.5,
             "#f7f7f7"
            ],
            [
             0.6,
             "#e6f5d0"
            ],
            [
             0.7,
             "#b8e186"
            ],
            [
             0.8,
             "#7fbc41"
            ],
            [
             0.9,
             "#4d9221"
            ],
            [
             1,
             "#276419"
            ]
           ],
           "sequential": [
            [
             0,
             "#2a9fd6"
            ],
            [
             0.1,
             "#4098c6"
            ],
            [
             0.2,
             "#5790b6"
            ],
            [
             0.30000000000000004,
             "#6d89a6"
            ],
            [
             0.4,
             "#838196"
            ],
            [
             0.5,
             "#9a7a86"
            ],
            [
             0.6000000000000001,
             "#b07276"
            ],
            [
             0.7000000000000001,
             "#c66b66"
            ],
            [
             0.8,
             "#dd6456"
            ],
            [
             0.9,
             "#f35c46"
            ],
            [
             1,
             "#ff5536"
            ]
           ],
           "sequentialminus": [
            [
             0,
             "#0d0887"
            ],
            [
             0.1111111111111111,
             "#46039f"
            ],
            [
             0.2222222222222222,
             "#7201a8"
            ],
            [
             0.3333333333333333,
             "#9c179e"
            ],
            [
             0.4444444444444444,
             "#bd3786"
            ],
            [
             0.5555555555555556,
             "#d8576b"
            ],
            [
             0.6666666666666666,
             "#ed7953"
            ],
            [
             0.7777777777777778,
             "#fb9f3a"
            ],
            [
             0.8888888888888888,
             "#fdca26"
            ],
            [
             1,
             "#f0f921"
            ]
           ]
          },
          "colorway": [
           "#4b9ed6",
           "#c80004",
           "#06a843",
           "#ff9d24",
           "#a32acd"
          ],
          "font": {
           "color": "#adafae",
           "family": "Roboto,-apple-system,BlinkMacSystemFont,\"Segoe UI\",\"Helvetica Neue\",Arial,sans-serif"
          },
          "geo": {
           "bgcolor": "#060606",
           "lakecolor": "#060606",
           "landcolor": "#060606",
           "showlakes": true,
           "showland": true,
           "subunitcolor": "#506784"
          },
          "hoverlabel": {
           "align": "left",
           "font": {
            "family": "Roboto,-apple-system,BlinkMacSystemFont,\"Segoe UI\",\"Helvetica Neue\",Arial,sans-serif"
           }
          },
          "hovermode": "closest",
          "mapbox": {
           "style": "dark"
          },
          "paper_bgcolor": "#282828",
          "piecolorway": [
           "#4b9ed6",
           "#c80004",
           "#06a843",
           "#ff9d24",
           "#a32acd"
          ],
          "plot_bgcolor": "#060606",
          "polar": {
           "angularaxis": {
            "gridcolor": "#506784",
            "linecolor": "#506784",
            "ticks": ""
           },
           "bgcolor": "rgb(17,17,17)",
           "radialaxis": {
            "gridcolor": "#506784",
            "linecolor": "#506784",
            "ticks": ""
           }
          },
          "scene": {
           "xaxis": {
            "backgroundcolor": "rgb(17,17,17)",
            "gridcolor": "#506784",
            "gridwidth": 2,
            "linecolor": "#506784",
            "showbackground": true,
            "ticks": "",
            "zerolinecolor": "#C8D4E3"
           },
           "yaxis": {
            "backgroundcolor": "rgb(17,17,17)",
            "gridcolor": "#506784",
            "gridwidth": 2,
            "linecolor": "#506784",
            "showbackground": true,
            "ticks": "",
            "zerolinecolor": "#C8D4E3"
           },
           "zaxis": {
            "backgroundcolor": "rgb(17,17,17)",
            "gridcolor": "#506784",
            "gridwidth": 2,
            "linecolor": "#506784",
            "showbackground": true,
            "ticks": "",
            "zerolinecolor": "#C8D4E3"
           }
          },
          "shapedefaults": {
           "line": {
            "color": "#f2f5fa"
           }
          },
          "sliderdefaults": {
           "bgcolor": "#C8D4E3",
           "bordercolor": "rgb(17,17,17)",
           "borderwidth": 1,
           "tickwidth": 0
          },
          "ternary": {
           "aaxis": {
            "gridcolor": "#506784",
            "linecolor": "#506784",
            "ticks": ""
           },
           "baxis": {
            "gridcolor": "#506784",
            "linecolor": "#506784",
            "ticks": ""
           },
           "bgcolor": "rgb(17,17,17)",
           "caxis": {
            "gridcolor": "#506784",
            "linecolor": "#506784",
            "ticks": ""
           }
          },
          "title": {
           "x": 0.05
          },
          "updatemenudefaults": {
           "bgcolor": "#506784",
           "borderwidth": 0
          },
          "xaxis": {
           "automargin": true,
           "gridcolor": "#131413",
           "gridwidth": 0.5,
           "linecolor": "#506784",
           "ticks": "",
           "title": {
            "standoff": 15
           },
           "zerolinecolor": "#131413",
           "zerolinewidth": 2
          },
          "yaxis": {
           "automargin": true,
           "gridcolor": "#131413",
           "gridwidth": 0.5,
           "linecolor": "#506784",
           "ticks": "",
           "title": {
            "standoff": 15
           },
           "zerolinecolor": "#131413",
           "zerolinewidth": 2
          }
         }
        }
       }
      },
      "text/html": [
       "<div>                            <div id=\"11adafaf-c9ef-4999-a872-211482002f79\" class=\"plotly-graph-div\" style=\"height:525px; width:100%;\"></div>            <script type=\"text/javascript\">                require([\"plotly\"], function(Plotly) {                    window.PLOTLYENV=window.PLOTLYENV || {};                                    if (document.getElementById(\"11adafaf-c9ef-4999-a872-211482002f79\")) {                    Plotly.newPlot(                        \"11adafaf-c9ef-4999-a872-211482002f79\",                        [{\"dimensions\":[{\"label\":\"p_k_percent\",\"values\":[21.10440677966102,21.508724832214767,21.944715447154472,22.664500792393024,23.946481876332623,22.810151515151517,22.303296703296706]},{\"label\":\"p_bb_percent\",\"values\":[8.83406779661017,8.960906040268457,8.994959349593495,9.331854199683042,9.359488272921109,9.491969696969697,8.863893249607536]},{\"label\":\"fastball_avg_speed\",\"values\":[92.55271186440677,92.46291946308725,92.50211382113821,92.79556259904913,92.64861407249467,93.02621212121213,93.38304552590267]},{\"label\":\"fastball_avg_spin\",\"values\":[2226.1237288135594,2222.6644295302012,2236.09918699187,2258.148969889065,2268.7462686567164,2239.9363636363637,2244.7708006279436]},{\"label\":\"breaking_avg_spin\",\"values\":[2332.695205479452,2384.263959390863,2409.950900163666,2448.8803827751194,2448.1496746203907,2413.809451219512,2427.9889240506327]}],\"domain\":{\"x\":[0.0,1.0],\"y\":[0.0,1.0]},\"line\":{\"color\":[2016,2017,2018,2019,2020,2021,2022],\"coloraxis\":\"coloraxis\"},\"name\":\"\",\"type\":\"parcoords\"}],                        {\"template\":{\"data\":{\"barpolar\":[{\"marker\":{\"line\":{\"color\":\"rgb(17,17,17)\",\"width\":0.5},\"pattern\":{\"fillmode\":\"overlay\",\"size\":10,\"solidity\":0.2}},\"type\":\"barpolar\"}],\"bar\":[{\"error_x\":{\"color\":\"#f2f5fa\"},\"error_y\":{\"color\":\"#f2f5fa\"},\"marker\":{\"line\":{\"color\":\"rgb(17,17,17)\",\"width\":0.5},\"pattern\":{\"fillmode\":\"overlay\",\"size\":10,\"solidity\":0.2}},\"type\":\"bar\"}],\"carpet\":[{\"aaxis\":{\"endlinecolor\":\"#A2B1C6\",\"gridcolor\":\"#506784\",\"linecolor\":\"#506784\",\"minorgridcolor\":\"#506784\",\"startlinecolor\":\"#A2B1C6\"},\"baxis\":{\"endlinecolor\":\"#A2B1C6\",\"gridcolor\":\"#506784\",\"linecolor\":\"#506784\",\"minorgridcolor\":\"#506784\",\"startlinecolor\":\"#A2B1C6\"},\"type\":\"carpet\"}],\"choropleth\":[{\"colorbar\":{\"outlinewidth\":0,\"ticks\":\"\"},\"type\":\"choropleth\"}],\"contourcarpet\":[{\"colorbar\":{\"outlinewidth\":0,\"ticks\":\"\"},\"type\":\"contourcarpet\"}],\"contour\":[{\"colorbar\":{\"outlinewidth\":0,\"ticks\":\"\"},\"colorscale\":[[0.0,\"#0d0887\"],[0.1111111111111111,\"#46039f\"],[0.2222222222222222,\"#7201a8\"],[0.3333333333333333,\"#9c179e\"],[0.4444444444444444,\"#bd3786\"],[0.5555555555555556,\"#d8576b\"],[0.6666666666666666,\"#ed7953\"],[0.7777777777777778,\"#fb9f3a\"],[0.8888888888888888,\"#fdca26\"],[1.0,\"#f0f921\"]],\"type\":\"contour\"}],\"heatmapgl\":[{\"colorbar\":{\"outlinewidth\":0,\"ticks\":\"\"},\"colorscale\":[[0.0,\"#0d0887\"],[0.1111111111111111,\"#46039f\"],[0.2222222222222222,\"#7201a8\"],[0.3333333333333333,\"#9c179e\"],[0.4444444444444444,\"#bd3786\"],[0.5555555555555556,\"#d8576b\"],[0.6666666666666666,\"#ed7953\"],[0.7777777777777778,\"#fb9f3a\"],[0.8888888888888888,\"#fdca26\"],[1.0,\"#f0f921\"]],\"type\":\"heatmapgl\"}],\"heatmap\":[{\"colorbar\":{\"outlinewidth\":0,\"ticks\":\"\"},\"colorscale\":[[0.0,\"#0d0887\"],[0.1111111111111111,\"#46039f\"],[0.2222222222222222,\"#7201a8\"],[0.3333333333333333,\"#9c179e\"],[0.4444444444444444,\"#bd3786\"],[0.5555555555555556,\"#d8576b\"],[0.6666666666666666,\"#ed7953\"],[0.7777777777777778,\"#fb9f3a\"],[0.8888888888888888,\"#fdca26\"],[1.0,\"#f0f921\"]],\"type\":\"heatmap\"}],\"histogram2dcontour\":[{\"colorbar\":{\"outlinewidth\":0,\"ticks\":\"\"},\"colorscale\":[[0.0,\"#0d0887\"],[0.1111111111111111,\"#46039f\"],[0.2222222222222222,\"#7201a8\"],[0.3333333333333333,\"#9c179e\"],[0.4444444444444444,\"#bd3786\"],[0.5555555555555556,\"#d8576b\"],[0.6666666666666666,\"#ed7953\"],[0.7777777777777778,\"#fb9f3a\"],[0.8888888888888888,\"#fdca26\"],[1.0,\"#f0f921\"]],\"type\":\"histogram2dcontour\"}],\"histogram2d\":[{\"colorbar\":{\"outlinewidth\":0,\"ticks\":\"\"},\"colorscale\":[[0.0,\"#0d0887\"],[0.1111111111111111,\"#46039f\"],[0.2222222222222222,\"#7201a8\"],[0.3333333333333333,\"#9c179e\"],[0.4444444444444444,\"#bd3786\"],[0.5555555555555556,\"#d8576b\"],[0.6666666666666666,\"#ed7953\"],[0.7777777777777778,\"#fb9f3a\"],[0.8888888888888888,\"#fdca26\"],[1.0,\"#f0f921\"]],\"type\":\"histogram2d\"}],\"histogram\":[{\"marker\":{\"pattern\":{\"fillmode\":\"overlay\",\"size\":10,\"solidity\":0.2}},\"type\":\"histogram\"}],\"mesh3d\":[{\"colorbar\":{\"outlinewidth\":0,\"ticks\":\"\"},\"type\":\"mesh3d\"}],\"parcoords\":[{\"line\":{\"colorbar\":{\"outlinewidth\":0,\"ticks\":\"\"}},\"type\":\"parcoords\"}],\"pie\":[{\"automargin\":true,\"type\":\"pie\"}],\"scatter3d\":[{\"line\":{\"colorbar\":{\"outlinewidth\":0,\"ticks\":\"\"}},\"marker\":{\"colorbar\":{\"outlinewidth\":0,\"ticks\":\"\"}},\"type\":\"scatter3d\"}],\"scattercarpet\":[{\"marker\":{\"colorbar\":{\"outlinewidth\":0,\"ticks\":\"\"}},\"type\":\"scattercarpet\"}],\"scattergeo\":[{\"marker\":{\"colorbar\":{\"outlinewidth\":0,\"ticks\":\"\"}},\"type\":\"scattergeo\"}],\"scattergl\":[{\"marker\":{\"line\":{\"color\":\"#060606\"}},\"type\":\"scattergl\"}],\"scattermapbox\":[{\"marker\":{\"colorbar\":{\"outlinewidth\":0,\"ticks\":\"\"}},\"type\":\"scattermapbox\"}],\"scatterpolargl\":[{\"marker\":{\"colorbar\":{\"outlinewidth\":0,\"ticks\":\"\"}},\"type\":\"scatterpolargl\"}],\"scatterpolar\":[{\"marker\":{\"colorbar\":{\"outlinewidth\":0,\"ticks\":\"\"}},\"type\":\"scatterpolar\"}],\"scatter\":[{\"marker\":{\"line\":{\"color\":\"#060606\"}},\"type\":\"scatter\"}],\"scatterternary\":[{\"marker\":{\"colorbar\":{\"outlinewidth\":0,\"ticks\":\"\"}},\"type\":\"scatterternary\"}],\"surface\":[{\"colorbar\":{\"outlinewidth\":0,\"ticks\":\"\"},\"colorscale\":[[0.0,\"#0d0887\"],[0.1111111111111111,\"#46039f\"],[0.2222222222222222,\"#7201a8\"],[0.3333333333333333,\"#9c179e\"],[0.4444444444444444,\"#bd3786\"],[0.5555555555555556,\"#d8576b\"],[0.6666666666666666,\"#ed7953\"],[0.7777777777777778,\"#fb9f3a\"],[0.8888888888888888,\"#fdca26\"],[1.0,\"#f0f921\"]],\"type\":\"surface\"}],\"table\":[{\"cells\":{\"fill\":{\"color\":\"#506784\"},\"line\":{\"color\":\"rgb(17,17,17)\"}},\"header\":{\"fill\":{\"color\":\"#2a3f5f\"},\"line\":{\"color\":\"rgb(17,17,17)\"}},\"type\":\"table\"}]},\"layout\":{\"annotationdefaults\":{\"arrowcolor\":\"#f2f5fa\",\"arrowhead\":0,\"arrowwidth\":1,\"font\":{\"color\":\"#adafae\"}},\"autotypenumbers\":\"strict\",\"coloraxis\":{\"colorbar\":{\"outlinewidth\":0,\"ticks\":\"\"}},\"colorscale\":{\"diverging\":[[0,\"#8e0152\"],[0.1,\"#c51b7d\"],[0.2,\"#de77ae\"],[0.3,\"#f1b6da\"],[0.4,\"#fde0ef\"],[0.5,\"#f7f7f7\"],[0.6,\"#e6f5d0\"],[0.7,\"#b8e186\"],[0.8,\"#7fbc41\"],[0.9,\"#4d9221\"],[1,\"#276419\"]],\"sequential\":[[0.0,\"#2a9fd6\"],[0.1,\"#4098c6\"],[0.2,\"#5790b6\"],[0.30000000000000004,\"#6d89a6\"],[0.4,\"#838196\"],[0.5,\"#9a7a86\"],[0.6000000000000001,\"#b07276\"],[0.7000000000000001,\"#c66b66\"],[0.8,\"#dd6456\"],[0.9,\"#f35c46\"],[1.0,\"#ff5536\"]],\"sequentialminus\":[[0.0,\"#0d0887\"],[0.1111111111111111,\"#46039f\"],[0.2222222222222222,\"#7201a8\"],[0.3333333333333333,\"#9c179e\"],[0.4444444444444444,\"#bd3786\"],[0.5555555555555556,\"#d8576b\"],[0.6666666666666666,\"#ed7953\"],[0.7777777777777778,\"#fb9f3a\"],[0.8888888888888888,\"#fdca26\"],[1.0,\"#f0f921\"]]},\"colorway\":[\"#4b9ed6\",\"#c80004\",\"#06a843\",\"#ff9d24\",\"#a32acd\"],\"font\":{\"color\":\"#adafae\",\"family\":\"Roboto,-apple-system,BlinkMacSystemFont,\\\"Segoe UI\\\",\\\"Helvetica Neue\\\",Arial,sans-serif\"},\"geo\":{\"bgcolor\":\"#060606\",\"lakecolor\":\"#060606\",\"landcolor\":\"#060606\",\"showlakes\":true,\"showland\":true,\"subunitcolor\":\"#506784\"},\"hoverlabel\":{\"align\":\"left\",\"font\":{\"family\":\"Roboto,-apple-system,BlinkMacSystemFont,\\\"Segoe UI\\\",\\\"Helvetica Neue\\\",Arial,sans-serif\"}},\"hovermode\":\"closest\",\"mapbox\":{\"style\":\"dark\"},\"paper_bgcolor\":\"#282828\",\"piecolorway\":[\"#4b9ed6\",\"#c80004\",\"#06a843\",\"#ff9d24\",\"#a32acd\"],\"plot_bgcolor\":\"#060606\",\"polar\":{\"angularaxis\":{\"gridcolor\":\"#506784\",\"linecolor\":\"#506784\",\"ticks\":\"\"},\"bgcolor\":\"rgb(17,17,17)\",\"radialaxis\":{\"gridcolor\":\"#506784\",\"linecolor\":\"#506784\",\"ticks\":\"\"}},\"scene\":{\"xaxis\":{\"backgroundcolor\":\"rgb(17,17,17)\",\"gridcolor\":\"#506784\",\"gridwidth\":2,\"linecolor\":\"#506784\",\"showbackground\":true,\"ticks\":\"\",\"zerolinecolor\":\"#C8D4E3\"},\"yaxis\":{\"backgroundcolor\":\"rgb(17,17,17)\",\"gridcolor\":\"#506784\",\"gridwidth\":2,\"linecolor\":\"#506784\",\"showbackground\":true,\"ticks\":\"\",\"zerolinecolor\":\"#C8D4E3\"},\"zaxis\":{\"backgroundcolor\":\"rgb(17,17,17)\",\"gridcolor\":\"#506784\",\"gridwidth\":2,\"linecolor\":\"#506784\",\"showbackground\":true,\"ticks\":\"\",\"zerolinecolor\":\"#C8D4E3\"}},\"shapedefaults\":{\"line\":{\"color\":\"#f2f5fa\"}},\"sliderdefaults\":{\"bgcolor\":\"#C8D4E3\",\"bordercolor\":\"rgb(17,17,17)\",\"borderwidth\":1,\"tickwidth\":0},\"ternary\":{\"aaxis\":{\"gridcolor\":\"#506784\",\"linecolor\":\"#506784\",\"ticks\":\"\"},\"baxis\":{\"gridcolor\":\"#506784\",\"linecolor\":\"#506784\",\"ticks\":\"\"},\"bgcolor\":\"rgb(17,17,17)\",\"caxis\":{\"gridcolor\":\"#506784\",\"linecolor\":\"#506784\",\"ticks\":\"\"}},\"title\":{\"x\":0.05},\"updatemenudefaults\":{\"bgcolor\":\"#506784\",\"borderwidth\":0},\"xaxis\":{\"automargin\":true,\"gridcolor\":\"#131413\",\"gridwidth\":0.5,\"linecolor\":\"#506784\",\"ticks\":\"\",\"title\":{\"standoff\":15},\"zerolinecolor\":\"#131413\",\"zerolinewidth\":2},\"yaxis\":{\"automargin\":true,\"gridcolor\":\"#131413\",\"gridwidth\":0.5,\"linecolor\":\"#506784\",\"ticks\":\"\",\"title\":{\"standoff\":15},\"zerolinecolor\":\"#131413\",\"zerolinewidth\":2}}},\"coloraxis\":{\"colorbar\":{\"title\":{\"text\":\"year\"}},\"colorscale\":[[0.0,\"rgb(0, 147, 146)\"],[0.16666666666666666,\"rgb(114, 170, 161)\"],[0.3333333333333333,\"rgb(177, 199, 179)\"],[0.5,\"rgb(241, 234, 200)\"],[0.6666666666666666,\"rgb(229, 185, 173)\"],[0.8333333333333334,\"rgb(217, 137, 148)\"],[1.0,\"rgb(208, 88, 126)\"]],\"cmid\":2,\"cmin\":2016,\"cmax\":2022},\"legend\":{\"tracegroupgap\":0},\"margin\":{\"t\":60}},                        {\"responsive\": true}                    ).then(function(){\n",
       "                            \n",
       "var gd = document.getElementById('11adafaf-c9ef-4999-a872-211482002f79');\n",
       "var x = new MutationObserver(function (mutations, observer) {{\n",
       "        var display = window.getComputedStyle(gd).display;\n",
       "        if (!display || display === 'none') {{\n",
       "            console.log([gd, 'removed!']);\n",
       "            Plotly.purge(gd);\n",
       "            observer.disconnect();\n",
       "        }}\n",
       "}});\n",
       "\n",
       "// Listen for the removal of the full notebook cells\n",
       "var notebookContainer = gd.closest('#notebook-container');\n",
       "if (notebookContainer) {{\n",
       "    x.observe(notebookContainer, {childList: true});\n",
       "}}\n",
       "\n",
       "// Listen for the clearing of the current output cell\n",
       "var outputEl = gd.closest('.output');\n",
       "if (outputEl) {{\n",
       "    x.observe(outputEl, {childList: true});\n",
       "}}\n",
       "\n",
       "                        })                };                });            </script>        </div>"
      ]
     },
     "metadata": {},
     "output_type": "display_data"
    }
   ],
   "source": [
    "fig = px.parallel_coordinates(dff, color='year', \n",
    "                              dimensions=[\"p_k_percent\",\"p_bb_percent\",\"fastball_avg_speed\",\"fastball_avg_spin\", \"breaking_avg_spin\"],\n",
    "                              color_continuous_scale=px.colors.diverging.Tealrose,range_color=[2016,2022],\n",
    "                              color_continuous_midpoint=2)\n",
    "fig.show()"
   ]
  },
  {
   "cell_type": "code",
   "execution_count": 28,
   "id": "ddbc9742",
   "metadata": {},
   "outputs": [
    {
     "data": {
      "text/html": [
       "<div>\n",
       "<style scoped>\n",
       "    .dataframe tbody tr th:only-of-type {\n",
       "        vertical-align: middle;\n",
       "    }\n",
       "\n",
       "    .dataframe tbody tr th {\n",
       "        vertical-align: top;\n",
       "    }\n",
       "\n",
       "    .dataframe thead th {\n",
       "        text-align: right;\n",
       "    }\n",
       "</style>\n",
       "<table border=\"1\" class=\"dataframe\">\n",
       "  <thead>\n",
       "    <tr style=\"text-align: right;\">\n",
       "      <th></th>\n",
       "      <th>sepal_length</th>\n",
       "      <th>sepal_width</th>\n",
       "      <th>petal_length</th>\n",
       "      <th>petal_width</th>\n",
       "      <th>species</th>\n",
       "      <th>species_id</th>\n",
       "    </tr>\n",
       "  </thead>\n",
       "  <tbody>\n",
       "    <tr>\n",
       "      <th>0</th>\n",
       "      <td>5.1</td>\n",
       "      <td>3.5</td>\n",
       "      <td>1.4</td>\n",
       "      <td>0.2</td>\n",
       "      <td>setosa</td>\n",
       "      <td>1</td>\n",
       "    </tr>\n",
       "    <tr>\n",
       "      <th>1</th>\n",
       "      <td>4.9</td>\n",
       "      <td>3.0</td>\n",
       "      <td>1.4</td>\n",
       "      <td>0.2</td>\n",
       "      <td>setosa</td>\n",
       "      <td>1</td>\n",
       "    </tr>\n",
       "    <tr>\n",
       "      <th>2</th>\n",
       "      <td>4.7</td>\n",
       "      <td>3.2</td>\n",
       "      <td>1.3</td>\n",
       "      <td>0.2</td>\n",
       "      <td>setosa</td>\n",
       "      <td>1</td>\n",
       "    </tr>\n",
       "    <tr>\n",
       "      <th>3</th>\n",
       "      <td>4.6</td>\n",
       "      <td>3.1</td>\n",
       "      <td>1.5</td>\n",
       "      <td>0.2</td>\n",
       "      <td>setosa</td>\n",
       "      <td>1</td>\n",
       "    </tr>\n",
       "    <tr>\n",
       "      <th>4</th>\n",
       "      <td>5.0</td>\n",
       "      <td>3.6</td>\n",
       "      <td>1.4</td>\n",
       "      <td>0.2</td>\n",
       "      <td>setosa</td>\n",
       "      <td>1</td>\n",
       "    </tr>\n",
       "    <tr>\n",
       "      <th>...</th>\n",
       "      <td>...</td>\n",
       "      <td>...</td>\n",
       "      <td>...</td>\n",
       "      <td>...</td>\n",
       "      <td>...</td>\n",
       "      <td>...</td>\n",
       "    </tr>\n",
       "    <tr>\n",
       "      <th>145</th>\n",
       "      <td>6.7</td>\n",
       "      <td>3.0</td>\n",
       "      <td>5.2</td>\n",
       "      <td>2.3</td>\n",
       "      <td>virginica</td>\n",
       "      <td>3</td>\n",
       "    </tr>\n",
       "    <tr>\n",
       "      <th>146</th>\n",
       "      <td>6.3</td>\n",
       "      <td>2.5</td>\n",
       "      <td>5.0</td>\n",
       "      <td>1.9</td>\n",
       "      <td>virginica</td>\n",
       "      <td>3</td>\n",
       "    </tr>\n",
       "    <tr>\n",
       "      <th>147</th>\n",
       "      <td>6.5</td>\n",
       "      <td>3.0</td>\n",
       "      <td>5.2</td>\n",
       "      <td>2.0</td>\n",
       "      <td>virginica</td>\n",
       "      <td>3</td>\n",
       "    </tr>\n",
       "    <tr>\n",
       "      <th>148</th>\n",
       "      <td>6.2</td>\n",
       "      <td>3.4</td>\n",
       "      <td>5.4</td>\n",
       "      <td>2.3</td>\n",
       "      <td>virginica</td>\n",
       "      <td>3</td>\n",
       "    </tr>\n",
       "    <tr>\n",
       "      <th>149</th>\n",
       "      <td>5.9</td>\n",
       "      <td>3.0</td>\n",
       "      <td>5.1</td>\n",
       "      <td>1.8</td>\n",
       "      <td>virginica</td>\n",
       "      <td>3</td>\n",
       "    </tr>\n",
       "  </tbody>\n",
       "</table>\n",
       "<p>150 rows × 6 columns</p>\n",
       "</div>"
      ],
      "text/plain": [
       "     sepal_length  sepal_width  petal_length  petal_width    species  \\\n",
       "0             5.1          3.5           1.4          0.2     setosa   \n",
       "1             4.9          3.0           1.4          0.2     setosa   \n",
       "2             4.7          3.2           1.3          0.2     setosa   \n",
       "3             4.6          3.1           1.5          0.2     setosa   \n",
       "4             5.0          3.6           1.4          0.2     setosa   \n",
       "..            ...          ...           ...          ...        ...   \n",
       "145           6.7          3.0           5.2          2.3  virginica   \n",
       "146           6.3          2.5           5.0          1.9  virginica   \n",
       "147           6.5          3.0           5.2          2.0  virginica   \n",
       "148           6.2          3.4           5.4          2.3  virginica   \n",
       "149           5.9          3.0           5.1          1.8  virginica   \n",
       "\n",
       "     species_id  \n",
       "0             1  \n",
       "1             1  \n",
       "2             1  \n",
       "3             1  \n",
       "4             1  \n",
       "..          ...  \n",
       "145           3  \n",
       "146           3  \n",
       "147           3  \n",
       "148           3  \n",
       "149           3  \n",
       "\n",
       "[150 rows x 6 columns]"
      ]
     },
     "execution_count": 28,
     "metadata": {},
     "output_type": "execute_result"
    }
   ],
   "source": [
    "df"
   ]
  },
  {
   "cell_type": "code",
   "execution_count": 31,
   "id": "040b3ca9",
   "metadata": {},
   "outputs": [
    {
     "data": {
      "text/plain": [
       "count    4198.000000\n",
       "mean       25.162339\n",
       "std         5.493908\n",
       "min         9.600000\n",
       "25%        21.400000\n",
       "50%        24.800000\n",
       "75%        28.500000\n",
       "max        51.800000\n",
       "Name: whiff_percent, dtype: float64"
      ]
     },
     "execution_count": 31,
     "metadata": {},
     "output_type": "execute_result"
    }
   ],
   "source": [
    "df['whiff_percent'].describe()"
   ]
  },
  {
   "cell_type": "code",
   "execution_count": 34,
   "id": "0bdd3a39",
   "metadata": {},
   "outputs": [
    {
     "data": {
      "text/html": [
       "<div>\n",
       "<style scoped>\n",
       "    .dataframe tbody tr th:only-of-type {\n",
       "        vertical-align: middle;\n",
       "    }\n",
       "\n",
       "    .dataframe tbody tr th {\n",
       "        vertical-align: top;\n",
       "    }\n",
       "\n",
       "    .dataframe thead th {\n",
       "        text-align: right;\n",
       "    }\n",
       "</style>\n",
       "<table border=\"1\" class=\"dataframe\">\n",
       "  <thead>\n",
       "    <tr style=\"text-align: right;\">\n",
       "      <th></th>\n",
       "      <th>last_name</th>\n",
       "      <th>first_name</th>\n",
       "      <th>player_id</th>\n",
       "      <th>year</th>\n",
       "      <th>p_k_percent</th>\n",
       "      <th>p_bb_percent</th>\n",
       "      <th>xwoba</th>\n",
       "      <th>z_swing_percent</th>\n",
       "      <th>z_swing_miss_percent</th>\n",
       "      <th>oz_swing_percent</th>\n",
       "      <th>...</th>\n",
       "      <th>fastball_avg_speed</th>\n",
       "      <th>fastball_avg_spin</th>\n",
       "      <th>fastball_avg_break</th>\n",
       "      <th>breaking_avg_speed</th>\n",
       "      <th>breaking_avg_spin</th>\n",
       "      <th>breaking_avg_break</th>\n",
       "      <th>offspeed_avg_speed</th>\n",
       "      <th>offspeed_avg_spin</th>\n",
       "      <th>offspeed_avg_break</th>\n",
       "      <th>Unnamed: 26</th>\n",
       "    </tr>\n",
       "  </thead>\n",
       "  <tbody>\n",
       "    <tr>\n",
       "      <th>1021</th>\n",
       "      <td>McCullers Jr.</td>\n",
       "      <td>Lance</td>\n",
       "      <td>621121</td>\n",
       "      <td>2016</td>\n",
       "      <td>30.1</td>\n",
       "      <td>12.8</td>\n",
       "      <td>0.289</td>\n",
       "      <td>59.5</td>\n",
       "      <td>16.1</td>\n",
       "      <td>30.1</td>\n",
       "      <td>...</td>\n",
       "      <td>94.4</td>\n",
       "      <td>2343</td>\n",
       "      <td>12.6</td>\n",
       "      <td>85.7</td>\n",
       "      <td>2899.0</td>\n",
       "      <td>18.3</td>\n",
       "      <td>89.3</td>\n",
       "      <td>1798.0</td>\n",
       "      <td>11.9</td>\n",
       "      <td>NaN</td>\n",
       "    </tr>\n",
       "    <tr>\n",
       "      <th>698</th>\n",
       "      <td>Delgado</td>\n",
       "      <td>Randall</td>\n",
       "      <td>517414</td>\n",
       "      <td>2016</td>\n",
       "      <td>20.2</td>\n",
       "      <td>10.7</td>\n",
       "      <td>0.292</td>\n",
       "      <td>63.5</td>\n",
       "      <td>14.1</td>\n",
       "      <td>30.0</td>\n",
       "      <td>...</td>\n",
       "      <td>92.9</td>\n",
       "      <td>2205</td>\n",
       "      <td>19.0</td>\n",
       "      <td>82.5</td>\n",
       "      <td>1975.0</td>\n",
       "      <td>5.8</td>\n",
       "      <td>85.8</td>\n",
       "      <td>1973.0</td>\n",
       "      <td>17.2</td>\n",
       "      <td>NaN</td>\n",
       "    </tr>\n",
       "    <tr>\n",
       "      <th>699</th>\n",
       "      <td>Boscan</td>\n",
       "      <td>Wilfredo</td>\n",
       "      <td>517448</td>\n",
       "      <td>2016</td>\n",
       "      <td>11.9</td>\n",
       "      <td>10.4</td>\n",
       "      <td>0.333</td>\n",
       "      <td>66.0</td>\n",
       "      <td>10.0</td>\n",
       "      <td>40.1</td>\n",
       "      <td>...</td>\n",
       "      <td>91.2</td>\n",
       "      <td>2237</td>\n",
       "      <td>18.1</td>\n",
       "      <td>76.2</td>\n",
       "      <td>2441.0</td>\n",
       "      <td>16.0</td>\n",
       "      <td>82.5</td>\n",
       "      <td>1843.0</td>\n",
       "      <td>15.2</td>\n",
       "      <td>NaN</td>\n",
       "    </tr>\n",
       "    <tr>\n",
       "      <th>700</th>\n",
       "      <td>Salazar</td>\n",
       "      <td>Danny</td>\n",
       "      <td>517593</td>\n",
       "      <td>2016</td>\n",
       "      <td>27.6</td>\n",
       "      <td>10.8</td>\n",
       "      <td>0.307</td>\n",
       "      <td>67.0</td>\n",
       "      <td>19.3</td>\n",
       "      <td>27.6</td>\n",
       "      <td>...</td>\n",
       "      <td>95.3</td>\n",
       "      <td>2410</td>\n",
       "      <td>20.1</td>\n",
       "      <td>84.1</td>\n",
       "      <td>2414.0</td>\n",
       "      <td>9.6</td>\n",
       "      <td>86.4</td>\n",
       "      <td>1407.0</td>\n",
       "      <td>9.8</td>\n",
       "      <td>NaN</td>\n",
       "    </tr>\n",
       "    <tr>\n",
       "      <th>701</th>\n",
       "      <td>Alexander</td>\n",
       "      <td>Scott</td>\n",
       "      <td>518397</td>\n",
       "      <td>2016</td>\n",
       "      <td>19.0</td>\n",
       "      <td>8.3</td>\n",
       "      <td>0.291</td>\n",
       "      <td>65.2</td>\n",
       "      <td>17.8</td>\n",
       "      <td>34.3</td>\n",
       "      <td>...</td>\n",
       "      <td>91.2</td>\n",
       "      <td>2104</td>\n",
       "      <td>15.3</td>\n",
       "      <td>83.2</td>\n",
       "      <td>2062.0</td>\n",
       "      <td>4.2</td>\n",
       "      <td>83.6</td>\n",
       "      <td>1614.0</td>\n",
       "      <td>16.2</td>\n",
       "      <td>NaN</td>\n",
       "    </tr>\n",
       "    <tr>\n",
       "      <th>...</th>\n",
       "      <td>...</td>\n",
       "      <td>...</td>\n",
       "      <td>...</td>\n",
       "      <td>...</td>\n",
       "      <td>...</td>\n",
       "      <td>...</td>\n",
       "      <td>...</td>\n",
       "      <td>...</td>\n",
       "      <td>...</td>\n",
       "      <td>...</td>\n",
       "      <td>...</td>\n",
       "      <td>...</td>\n",
       "      <td>...</td>\n",
       "      <td>...</td>\n",
       "      <td>...</td>\n",
       "      <td>...</td>\n",
       "      <td>...</td>\n",
       "      <td>...</td>\n",
       "      <td>...</td>\n",
       "      <td>...</td>\n",
       "      <td>...</td>\n",
       "    </tr>\n",
       "    <tr>\n",
       "      <th>2707</th>\n",
       "      <td>Seabold</td>\n",
       "      <td>Connor</td>\n",
       "      <td>657756</td>\n",
       "      <td>2022</td>\n",
       "      <td>19.4</td>\n",
       "      <td>8.2</td>\n",
       "      <td>0.360</td>\n",
       "      <td>71.1</td>\n",
       "      <td>17.8</td>\n",
       "      <td>26.7</td>\n",
       "      <td>...</td>\n",
       "      <td>92.1</td>\n",
       "      <td>2113</td>\n",
       "      <td>19.7</td>\n",
       "      <td>84.5</td>\n",
       "      <td>2417.0</td>\n",
       "      <td>6.7</td>\n",
       "      <td>80.4</td>\n",
       "      <td>2009.0</td>\n",
       "      <td>15.9</td>\n",
       "      <td>NaN</td>\n",
       "    </tr>\n",
       "    <tr>\n",
       "      <th>2706</th>\n",
       "      <td>Ryan</td>\n",
       "      <td>Joe</td>\n",
       "      <td>657746</td>\n",
       "      <td>2022</td>\n",
       "      <td>25.0</td>\n",
       "      <td>7.8</td>\n",
       "      <td>0.294</td>\n",
       "      <td>71.6</td>\n",
       "      <td>20.0</td>\n",
       "      <td>28.0</td>\n",
       "      <td>...</td>\n",
       "      <td>92.0</td>\n",
       "      <td>2194</td>\n",
       "      <td>18.4</td>\n",
       "      <td>80.2</td>\n",
       "      <td>2211.0</td>\n",
       "      <td>7.8</td>\n",
       "      <td>84.6</td>\n",
       "      <td>2087.0</td>\n",
       "      <td>20.0</td>\n",
       "      <td>NaN</td>\n",
       "    </tr>\n",
       "    <tr>\n",
       "      <th>2705</th>\n",
       "      <td>Koenig</td>\n",
       "      <td>Jared</td>\n",
       "      <td>657649</td>\n",
       "      <td>2022</td>\n",
       "      <td>12.4</td>\n",
       "      <td>8.5</td>\n",
       "      <td>0.347</td>\n",
       "      <td>67.6</td>\n",
       "      <td>8.4</td>\n",
       "      <td>22.7</td>\n",
       "      <td>...</td>\n",
       "      <td>87.8</td>\n",
       "      <td>2138</td>\n",
       "      <td>13.9</td>\n",
       "      <td>77.6</td>\n",
       "      <td>2210.0</td>\n",
       "      <td>13.1</td>\n",
       "      <td>82.8</td>\n",
       "      <td>1605.0</td>\n",
       "      <td>15.2</td>\n",
       "      <td>NaN</td>\n",
       "    </tr>\n",
       "    <tr>\n",
       "      <th>2712</th>\n",
       "      <td>Lamet</td>\n",
       "      <td>Dinelson</td>\n",
       "      <td>659275</td>\n",
       "      <td>2022</td>\n",
       "      <td>30.2</td>\n",
       "      <td>12.8</td>\n",
       "      <td>0.328</td>\n",
       "      <td>67.8</td>\n",
       "      <td>32.3</td>\n",
       "      <td>21.7</td>\n",
       "      <td>...</td>\n",
       "      <td>95.4</td>\n",
       "      <td>2403</td>\n",
       "      <td>16.0</td>\n",
       "      <td>86.3</td>\n",
       "      <td>2410.0</td>\n",
       "      <td>6.3</td>\n",
       "      <td>NaN</td>\n",
       "      <td>NaN</td>\n",
       "      <td>NaN</td>\n",
       "      <td>NaN</td>\n",
       "    </tr>\n",
       "    <tr>\n",
       "      <th>2901</th>\n",
       "      <td>Bruihl</td>\n",
       "      <td>Justin</td>\n",
       "      <td>677865</td>\n",
       "      <td>2022</td>\n",
       "      <td>13.0</td>\n",
       "      <td>6.0</td>\n",
       "      <td>0.300</td>\n",
       "      <td>78.6</td>\n",
       "      <td>21.1</td>\n",
       "      <td>22.1</td>\n",
       "      <td>...</td>\n",
       "      <td>86.9</td>\n",
       "      <td>2249</td>\n",
       "      <td>9.8</td>\n",
       "      <td>77.5</td>\n",
       "      <td>2391.0</td>\n",
       "      <td>16.3</td>\n",
       "      <td>NaN</td>\n",
       "      <td>NaN</td>\n",
       "      <td>NaN</td>\n",
       "      <td>NaN</td>\n",
       "    </tr>\n",
       "  </tbody>\n",
       "</table>\n",
       "<p>4198 rows × 27 columns</p>\n",
       "</div>"
      ],
      "text/plain": [
       "          last_name  first_name  player_id  year  p_k_percent  p_bb_percent  \\\n",
       "1021  McCullers Jr.       Lance     621121  2016         30.1          12.8   \n",
       "698         Delgado     Randall     517414  2016         20.2          10.7   \n",
       "699          Boscan    Wilfredo     517448  2016         11.9          10.4   \n",
       "700         Salazar       Danny     517593  2016         27.6          10.8   \n",
       "701       Alexander       Scott     518397  2016         19.0           8.3   \n",
       "...             ...         ...        ...   ...          ...           ...   \n",
       "2707        Seabold      Connor     657756  2022         19.4           8.2   \n",
       "2706           Ryan         Joe     657746  2022         25.0           7.8   \n",
       "2705         Koenig       Jared     657649  2022         12.4           8.5   \n",
       "2712          Lamet    Dinelson     659275  2022         30.2          12.8   \n",
       "2901         Bruihl      Justin     677865  2022         13.0           6.0   \n",
       "\n",
       "      xwoba  z_swing_percent  z_swing_miss_percent  oz_swing_percent  ...  \\\n",
       "1021  0.289             59.5                  16.1              30.1  ...   \n",
       "698   0.292             63.5                  14.1              30.0  ...   \n",
       "699   0.333             66.0                  10.0              40.1  ...   \n",
       "700   0.307             67.0                  19.3              27.6  ...   \n",
       "701   0.291             65.2                  17.8              34.3  ...   \n",
       "...     ...              ...                   ...               ...  ...   \n",
       "2707  0.360             71.1                  17.8              26.7  ...   \n",
       "2706  0.294             71.6                  20.0              28.0  ...   \n",
       "2705  0.347             67.6                   8.4              22.7  ...   \n",
       "2712  0.328             67.8                  32.3              21.7  ...   \n",
       "2901  0.300             78.6                  21.1              22.1  ...   \n",
       "\n",
       "      fastball_avg_speed  fastball_avg_spin  fastball_avg_break  \\\n",
       "1021                94.4               2343                12.6   \n",
       "698                 92.9               2205                19.0   \n",
       "699                 91.2               2237                18.1   \n",
       "700                 95.3               2410                20.1   \n",
       "701                 91.2               2104                15.3   \n",
       "...                  ...                ...                 ...   \n",
       "2707                92.1               2113                19.7   \n",
       "2706                92.0               2194                18.4   \n",
       "2705                87.8               2138                13.9   \n",
       "2712                95.4               2403                16.0   \n",
       "2901                86.9               2249                 9.8   \n",
       "\n",
       "      breaking_avg_speed  breaking_avg_spin  breaking_avg_break  \\\n",
       "1021                85.7             2899.0                18.3   \n",
       "698                 82.5             1975.0                 5.8   \n",
       "699                 76.2             2441.0                16.0   \n",
       "700                 84.1             2414.0                 9.6   \n",
       "701                 83.2             2062.0                 4.2   \n",
       "...                  ...                ...                 ...   \n",
       "2707                84.5             2417.0                 6.7   \n",
       "2706                80.2             2211.0                 7.8   \n",
       "2705                77.6             2210.0                13.1   \n",
       "2712                86.3             2410.0                 6.3   \n",
       "2901                77.5             2391.0                16.3   \n",
       "\n",
       "      offspeed_avg_speed  offspeed_avg_spin  offspeed_avg_break  Unnamed: 26  \n",
       "1021                89.3             1798.0                11.9          NaN  \n",
       "698                 85.8             1973.0                17.2          NaN  \n",
       "699                 82.5             1843.0                15.2          NaN  \n",
       "700                 86.4             1407.0                 9.8          NaN  \n",
       "701                 83.6             1614.0                16.2          NaN  \n",
       "...                  ...                ...                 ...          ...  \n",
       "2707                80.4             2009.0                15.9          NaN  \n",
       "2706                84.6             2087.0                20.0          NaN  \n",
       "2705                82.8             1605.0                15.2          NaN  \n",
       "2712                 NaN                NaN                 NaN          NaN  \n",
       "2901                 NaN                NaN                 NaN          NaN  \n",
       "\n",
       "[4198 rows x 27 columns]"
      ]
     },
     "execution_count": 34,
     "metadata": {},
     "output_type": "execute_result"
    }
   ],
   "source": [
    "df.sort_values('year')"
   ]
  },
  {
   "cell_type": "code",
   "execution_count": 143,
   "id": "59e58d77",
   "metadata": {},
   "outputs": [
    {
     "name": "stderr",
     "output_type": "stream",
     "text": [
      "C:\\Users\\jihun\\AppData\\Local\\Temp\\ipykernel_10676\\3118231630.py:37: FutureWarning:\n",
      "\n",
      "Indexing with multiple keys (implicitly converted to a tuple of keys) will be deprecated, use a list instead.\n",
      "\n"
     ]
    },
    {
     "name": "stdout",
     "output_type": "stream",
     "text": [
      "Dash is running on http://127.0.0.1:8050/\n",
      "\n",
      "Dash app running on http://127.0.0.1:8050/\n"
     ]
    }
   ],
   "source": [
    "from dash import Dash, dcc, html\n",
    "import plotly.express as px\n",
    "import dash_bootstrap_components as dbc\n",
    "import pandas as pd\n",
    "import plotly.graph_objs as go\n",
    "from jupyter_dash import JupyterDash\n",
    "\n",
    "from dash_bootstrap_templates import load_figure_template\n",
    "\n",
    "# This loads the \"cyborg\" themed figure template from dash-bootstrap-templates library,\n",
    "# adds it to plotly.io and makes it the default figure template.\n",
    "load_figure_template(\"bootstrap\")\n",
    "\n",
    "app = JupyterDash(__name__, external_stylesheets=[dbc.themes.FLATLY])\n",
    "\n",
    "df = pd.read_csv('C:\\\\Users\\\\jihun\\\\Downloads\\\\stats (7).csv')\n",
    "\n",
    "\n",
    "df=df.sort_values('year')\n",
    "scatter_fastball = px.scatter(df, x=\"fastball_avg_spin\", y=\"fastball_avg_speed\", animation_frame=\"year\",\n",
    "           color=\"xwoba\", hover_name=\"last_name\",range_color=[0.2,0.5],\n",
    "           #log_x=True, \n",
    "                 size_max=20, range_x=[1500,3000], range_y=[80,102])\n",
    "\n",
    "\n",
    "scatter_breaking = px.scatter(df, x=\"breaking_avg_spin\", y=\"breaking_avg_break\", animation_frame=\"year\",\n",
    "           color=\"xwoba\", hover_name=\"last_name\",range_color=[0.2,0.5],\n",
    "                 size_max=20, range_x=[1600,3200], range_y=[0,30])\n",
    "\n",
    "\n",
    "scatter_offspeed = px.scatter(df, x=\"offspeed_avg_spin\", y=\"offspeed_avg_break\", animation_frame=\"year\",\n",
    "           color=\"xwoba\", hover_name=\"last_name\",range_color=[0.2,0.5],\n",
    "                 size_max=20, range_x=[0,3000], range_y=[0,30])\n",
    "\n",
    "\n",
    "\n",
    "dff=df.groupby('year')['p_k_percent','p_bb_percent','whiff_percent',\n",
    "                       'fastball_avg_speed','offspeed_avg_break',\n",
    "                       'breaking_avg_break','xwoba'].agg('mean').reset_index()\n",
    "\n",
    "average_parallel = px.parallel_coordinates(dff, color='year', \n",
    "                              dimensions=[\"p_k_percent\",\"p_bb_percent\",\"fastball_avg_speed\",\"breaking_avg_break\", \n",
    "                                          \"offspeed_avg_break\",\"xwoba\"],\n",
    "                              color_continuous_scale=px.colors.diverging.Tealrose,range_color=[2016,2022],\n",
    "                              color_continuous_midpoint=2)\n",
    "\n",
    "\n",
    "\n",
    "\n",
    "graphs = html.Div(\n",
    "    [\n",
    "        dbc.Row(\n",
    "            [\n",
    "                dbc.Col(dcc.Graph(figure=average_parallel), lg=6),\n",
    "                dbc.Col(dcc.Graph(figure=scatter_fastball), lg=6),\n",
    "            ],\n",
    "            className=\"mt-4\",\n",
    "        ),\n",
    "        dbc.Row(\n",
    "            [\n",
    "                dbc.Col(dcc.Graph(figure=scatter_breaking), lg=6),\n",
    "                dbc.Col(dcc.Graph(figure=scatter_offspeed), lg=6),\n",
    "            ],\n",
    "            className=\"mt-4\",\n",
    "        ),\n",
    "    ]\n",
    ")\n",
    "\n",
    "heading = html.H1(\"Pitcher Stats By Year\", className=\"bg-primary text-white p-2\")\n",
    "\n",
    "app.layout = dbc.Container([heading, graphs], fluid=True)\n",
    "\n",
    "\n",
    "if __name__ == \"__main__\":\n",
    "    app.run_server(debug=True)"
   ]
  },
  {
   "cell_type": "code",
   "execution_count": 133,
   "id": "828db2ee",
   "metadata": {},
   "outputs": [
    {
     "name": "stdout",
     "output_type": "stream",
     "text": [
      "Dash is running on http://127.0.0.1:8050/\n",
      "\n",
      "Dash app running on http://127.0.0.1:8050/\n"
     ]
    }
   ],
   "source": [
    "from dash import Dash, dcc, html, Input, Output\n",
    "import pandas as pd\n",
    "import plotly.express as px\n",
    "import dash_bootstrap_components as dbc\n",
    "from dash_bootstrap_templates import ThemeChangerAIO, template_from_url\n",
    "\n",
    "\n",
    "dbc_css = (\n",
    "    \"https://cdn.jsdelivr.net/gh/AnnMarieW/dash-bootstrap-templates@V1.0.1/dbc.min.css\"\n",
    ")\n",
    "app = JupyterDash(__name__, external_stylesheets=[dbc.themes.BOOTSTRAP, dbc_css])\n",
    "\n",
    "\n",
    "\n",
    "\n",
    "df = pd.DataFrame(\n",
    "    {\n",
    "        \"Fruit\": [\"Apples\", \"Oranges\", \"Bananas\", \"Apples\", \"Oranges\", \"Bananas\"],\n",
    "        \"Amount\": [4, 1, 2, 2, 4, 5],\n",
    "        \"City\": [\"SF\", \"SF\", \"SF\", \"Montreal\", \"Montreal\", \"Montreal\"],\n",
    "    }\n",
    ")\n",
    "header = html.H4(\n",
    "    \"ThemeChangerAIO Demo\", className=\"bg-primary text-white p-4 mb-2 text-center\"\n",
    ")\n",
    "buttons = html.Div(\n",
    "    [\n",
    "        dbc.Button(\"Primary\", color=\"primary\"),\n",
    "        dbc.Button(\"Secondary\", color=\"secondary\"),\n",
    "        dbc.Button(\"Success\", color=\"success\"),\n",
    "        dbc.Button(\"Warning\", color=\"warning\"),\n",
    "        dbc.Button(\"Danger\", color=\"danger\"),\n",
    "        dbc.Button(\"Info\", color=\"info\"),\n",
    "        dbc.Button(\"Light\", color=\"light\"),\n",
    "        dbc.Button(\"Dark\", color=\"dark\"),\n",
    "        dbc.Button(\"Link\", color=\"link\"),\n",
    "    ],\n",
    "    className=\"m-4\",\n",
    ")\n",
    "graph = html.Div(dcc.Graph(id=\"graph\"), className=\"m-4\")\n",
    "\n",
    "app.layout = dbc.Container(\n",
    "    [\n",
    "        header,\n",
    "        dbc.Row(\n",
    "            [\n",
    "                dbc.Col(ThemeChangerAIO(aio_id=\"theme\", radio_props={\"value\":dbc.themes.FLATLY}), width=2,),\n",
    "                dbc.Col([buttons, graph],width=10),\n",
    "            ]\n",
    "        ),\n",
    "    ],\n",
    "    className=\"m-4 dbc\",\n",
    "    fluid=True,\n",
    ")\n",
    "\n",
    "\n",
    "@app.callback(\n",
    "    Output(\"graph\", \"figure\"), Input(ThemeChangerAIO.ids.radio(\"theme\"), \"value\"),\n",
    ")\n",
    "def update_graph_theme(theme):\n",
    "    return px.bar(\n",
    "        df, x=\"Fruit\", y=\"Amount\", color=\"City\", barmode=\"group\", template=template_from_url(theme)\n",
    "    )\n",
    "\n",
    "\n",
    "if __name__ == \"__main__\":\n",
    "    app.run_server(debug=True)"
   ]
  },
  {
   "cell_type": "code",
   "execution_count": 39,
   "id": "fe74d8fe",
   "metadata": {},
   "outputs": [
    {
     "data": {
      "text/html": [
       "<div>\n",
       "<style scoped>\n",
       "    .dataframe tbody tr th:only-of-type {\n",
       "        vertical-align: middle;\n",
       "    }\n",
       "\n",
       "    .dataframe tbody tr th {\n",
       "        vertical-align: top;\n",
       "    }\n",
       "\n",
       "    .dataframe thead th {\n",
       "        text-align: right;\n",
       "    }\n",
       "</style>\n",
       "<table border=\"1\" class=\"dataframe\">\n",
       "  <thead>\n",
       "    <tr style=\"text-align: right;\">\n",
       "      <th></th>\n",
       "      <th>player_id</th>\n",
       "      <th>year</th>\n",
       "      <th>p_k_percent</th>\n",
       "      <th>p_bb_percent</th>\n",
       "      <th>xwoba</th>\n",
       "      <th>z_swing_percent</th>\n",
       "      <th>z_swing_miss_percent</th>\n",
       "      <th>oz_swing_percent</th>\n",
       "      <th>oz_swing_miss_percent</th>\n",
       "      <th>oz_contact_percent</th>\n",
       "      <th>...</th>\n",
       "      <th>fastball_avg_speed</th>\n",
       "      <th>fastball_avg_spin</th>\n",
       "      <th>fastball_avg_break</th>\n",
       "      <th>breaking_avg_speed</th>\n",
       "      <th>breaking_avg_spin</th>\n",
       "      <th>breaking_avg_break</th>\n",
       "      <th>offspeed_avg_speed</th>\n",
       "      <th>offspeed_avg_spin</th>\n",
       "      <th>offspeed_avg_break</th>\n",
       "      <th>Unnamed: 26</th>\n",
       "    </tr>\n",
       "  </thead>\n",
       "  <tbody>\n",
       "    <tr>\n",
       "      <th>count</th>\n",
       "      <td>4198.000000</td>\n",
       "      <td>4198.000000</td>\n",
       "      <td>4198.000000</td>\n",
       "      <td>4198.000000</td>\n",
       "      <td>4198.000000</td>\n",
       "      <td>4198.000000</td>\n",
       "      <td>4198.000000</td>\n",
       "      <td>4198.000000</td>\n",
       "      <td>4198.000000</td>\n",
       "      <td>4198.000000</td>\n",
       "      <td>...</td>\n",
       "      <td>4198.000000</td>\n",
       "      <td>4198.000000</td>\n",
       "      <td>4198.000000</td>\n",
       "      <td>4163.000000</td>\n",
       "      <td>4162.000000</td>\n",
       "      <td>4163.000000</td>\n",
       "      <td>3631.000000</td>\n",
       "      <td>3631.000000</td>\n",
       "      <td>3631.000000</td>\n",
       "      <td>0.0</td>\n",
       "    </tr>\n",
       "    <tr>\n",
       "      <th>mean</th>\n",
       "      <td>576743.359219</td>\n",
       "      <td>2019.029300</td>\n",
       "      <td>22.287018</td>\n",
       "      <td>9.117127</td>\n",
       "      <td>0.318882</td>\n",
       "      <td>67.130348</td>\n",
       "      <td>17.732253</td>\n",
       "      <td>27.879014</td>\n",
       "      <td>41.585779</td>\n",
       "      <td>57.782873</td>\n",
       "      <td>...</td>\n",
       "      <td>92.780205</td>\n",
       "      <td>2241.670557</td>\n",
       "      <td>17.445545</td>\n",
       "      <td>82.156161</td>\n",
       "      <td>2408.906055</td>\n",
       "      <td>10.261590</td>\n",
       "      <td>85.321261</td>\n",
       "      <td>1733.408427</td>\n",
       "      <td>15.825255</td>\n",
       "      <td>NaN</td>\n",
       "    </tr>\n",
       "    <tr>\n",
       "      <th>std</th>\n",
       "      <td>73075.046297</td>\n",
       "      <td>2.021295</td>\n",
       "      <td>6.225344</td>\n",
       "      <td>3.295309</td>\n",
       "      <td>0.042521</td>\n",
       "      <td>4.352528</td>\n",
       "      <td>4.777835</td>\n",
       "      <td>4.115655</td>\n",
       "      <td>9.401976</td>\n",
       "      <td>9.355995</td>\n",
       "      <td>...</td>\n",
       "      <td>2.706958</td>\n",
       "      <td>157.973880</td>\n",
       "      <td>2.530657</td>\n",
       "      <td>3.718235</td>\n",
       "      <td>251.829316</td>\n",
       "      <td>4.340636</td>\n",
       "      <td>3.162735</td>\n",
       "      <td>277.685838</td>\n",
       "      <td>2.896174</td>\n",
       "      <td>NaN</td>\n",
       "    </tr>\n",
       "    <tr>\n",
       "      <th>min</th>\n",
       "      <td>112526.000000</td>\n",
       "      <td>2016.000000</td>\n",
       "      <td>4.000000</td>\n",
       "      <td>0.000000</td>\n",
       "      <td>0.154000</td>\n",
       "      <td>46.400000</td>\n",
       "      <td>2.700000</td>\n",
       "      <td>12.100000</td>\n",
       "      <td>14.300000</td>\n",
       "      <td>13.600000</td>\n",
       "      <td>...</td>\n",
       "      <td>80.300000</td>\n",
       "      <td>1593.000000</td>\n",
       "      <td>5.300000</td>\n",
       "      <td>66.100000</td>\n",
       "      <td>881.000000</td>\n",
       "      <td>1.600000</td>\n",
       "      <td>63.000000</td>\n",
       "      <td>487.000000</td>\n",
       "      <td>3.200000</td>\n",
       "      <td>NaN</td>\n",
       "    </tr>\n",
       "    <tr>\n",
       "      <th>25%</th>\n",
       "      <td>519381.000000</td>\n",
       "      <td>2017.000000</td>\n",
       "      <td>18.000000</td>\n",
       "      <td>6.800000</td>\n",
       "      <td>0.291000</td>\n",
       "      <td>64.400000</td>\n",
       "      <td>14.400000</td>\n",
       "      <td>25.300000</td>\n",
       "      <td>35.300000</td>\n",
       "      <td>51.700000</td>\n",
       "      <td>...</td>\n",
       "      <td>91.200000</td>\n",
       "      <td>2135.000000</td>\n",
       "      <td>16.000000</td>\n",
       "      <td>79.800000</td>\n",
       "      <td>2244.250000</td>\n",
       "      <td>6.800000</td>\n",
       "      <td>83.500000</td>\n",
       "      <td>1564.000000</td>\n",
       "      <td>14.200000</td>\n",
       "      <td>NaN</td>\n",
       "    </tr>\n",
       "    <tr>\n",
       "      <th>50%</th>\n",
       "      <td>594795.000000</td>\n",
       "      <td>2019.000000</td>\n",
       "      <td>21.700000</td>\n",
       "      <td>8.700000</td>\n",
       "      <td>0.317000</td>\n",
       "      <td>67.300000</td>\n",
       "      <td>17.400000</td>\n",
       "      <td>27.800000</td>\n",
       "      <td>41.100000</td>\n",
       "      <td>58.200000</td>\n",
       "      <td>...</td>\n",
       "      <td>92.900000</td>\n",
       "      <td>2243.000000</td>\n",
       "      <td>17.900000</td>\n",
       "      <td>82.400000</td>\n",
       "      <td>2402.000000</td>\n",
       "      <td>9.600000</td>\n",
       "      <td>85.600000</td>\n",
       "      <td>1724.000000</td>\n",
       "      <td>16.100000</td>\n",
       "      <td>NaN</td>\n",
       "    </tr>\n",
       "    <tr>\n",
       "      <th>75%</th>\n",
       "      <td>640470.000000</td>\n",
       "      <td>2021.000000</td>\n",
       "      <td>26.100000</td>\n",
       "      <td>11.000000</td>\n",
       "      <td>0.345000</td>\n",
       "      <td>70.000000</td>\n",
       "      <td>20.700000</td>\n",
       "      <td>30.500000</td>\n",
       "      <td>47.700000</td>\n",
       "      <td>64.000000</td>\n",
       "      <td>...</td>\n",
       "      <td>94.600000</td>\n",
       "      <td>2352.000000</td>\n",
       "      <td>19.200000</td>\n",
       "      <td>84.900000</td>\n",
       "      <td>2570.000000</td>\n",
       "      <td>13.300000</td>\n",
       "      <td>87.500000</td>\n",
       "      <td>1913.000000</td>\n",
       "      <td>17.700000</td>\n",
       "      <td>NaN</td>\n",
       "    </tr>\n",
       "    <tr>\n",
       "      <th>max</th>\n",
       "      <td>693821.000000</td>\n",
       "      <td>2022.000000</td>\n",
       "      <td>53.000000</td>\n",
       "      <td>32.100000</td>\n",
       "      <td>0.551000</td>\n",
       "      <td>81.800000</td>\n",
       "      <td>40.000000</td>\n",
       "      <td>46.600000</td>\n",
       "      <td>86.400000</td>\n",
       "      <td>85.700000</td>\n",
       "      <td>...</td>\n",
       "      <td>101.100000</td>\n",
       "      <td>2889.000000</td>\n",
       "      <td>25.300000</td>\n",
       "      <td>92.700000</td>\n",
       "      <td>3295.000000</td>\n",
       "      <td>23.600000</td>\n",
       "      <td>96.400000</td>\n",
       "      <td>2852.000000</td>\n",
       "      <td>26.600000</td>\n",
       "      <td>NaN</td>\n",
       "    </tr>\n",
       "  </tbody>\n",
       "</table>\n",
       "<p>8 rows × 25 columns</p>\n",
       "</div>"
      ],
      "text/plain": [
       "           player_id         year  p_k_percent  p_bb_percent        xwoba  \\\n",
       "count    4198.000000  4198.000000  4198.000000   4198.000000  4198.000000   \n",
       "mean   576743.359219  2019.029300    22.287018      9.117127     0.318882   \n",
       "std     73075.046297     2.021295     6.225344      3.295309     0.042521   \n",
       "min    112526.000000  2016.000000     4.000000      0.000000     0.154000   \n",
       "25%    519381.000000  2017.000000    18.000000      6.800000     0.291000   \n",
       "50%    594795.000000  2019.000000    21.700000      8.700000     0.317000   \n",
       "75%    640470.000000  2021.000000    26.100000     11.000000     0.345000   \n",
       "max    693821.000000  2022.000000    53.000000     32.100000     0.551000   \n",
       "\n",
       "       z_swing_percent  z_swing_miss_percent  oz_swing_percent  \\\n",
       "count      4198.000000           4198.000000       4198.000000   \n",
       "mean         67.130348             17.732253         27.879014   \n",
       "std           4.352528              4.777835          4.115655   \n",
       "min          46.400000              2.700000         12.100000   \n",
       "25%          64.400000             14.400000         25.300000   \n",
       "50%          67.300000             17.400000         27.800000   \n",
       "75%          70.000000             20.700000         30.500000   \n",
       "max          81.800000             40.000000         46.600000   \n",
       "\n",
       "       oz_swing_miss_percent  oz_contact_percent  ...  fastball_avg_speed  \\\n",
       "count            4198.000000         4198.000000  ...         4198.000000   \n",
       "mean               41.585779           57.782873  ...           92.780205   \n",
       "std                 9.401976            9.355995  ...            2.706958   \n",
       "min                14.300000           13.600000  ...           80.300000   \n",
       "25%                35.300000           51.700000  ...           91.200000   \n",
       "50%                41.100000           58.200000  ...           92.900000   \n",
       "75%                47.700000           64.000000  ...           94.600000   \n",
       "max                86.400000           85.700000  ...          101.100000   \n",
       "\n",
       "       fastball_avg_spin  fastball_avg_break  breaking_avg_speed  \\\n",
       "count        4198.000000         4198.000000         4163.000000   \n",
       "mean         2241.670557           17.445545           82.156161   \n",
       "std           157.973880            2.530657            3.718235   \n",
       "min          1593.000000            5.300000           66.100000   \n",
       "25%          2135.000000           16.000000           79.800000   \n",
       "50%          2243.000000           17.900000           82.400000   \n",
       "75%          2352.000000           19.200000           84.900000   \n",
       "max          2889.000000           25.300000           92.700000   \n",
       "\n",
       "       breaking_avg_spin  breaking_avg_break  offspeed_avg_speed  \\\n",
       "count        4162.000000         4163.000000         3631.000000   \n",
       "mean         2408.906055           10.261590           85.321261   \n",
       "std           251.829316            4.340636            3.162735   \n",
       "min           881.000000            1.600000           63.000000   \n",
       "25%          2244.250000            6.800000           83.500000   \n",
       "50%          2402.000000            9.600000           85.600000   \n",
       "75%          2570.000000           13.300000           87.500000   \n",
       "max          3295.000000           23.600000           96.400000   \n",
       "\n",
       "       offspeed_avg_spin  offspeed_avg_break  Unnamed: 26  \n",
       "count        3631.000000         3631.000000          0.0  \n",
       "mean         1733.408427           15.825255          NaN  \n",
       "std           277.685838            2.896174          NaN  \n",
       "min           487.000000            3.200000          NaN  \n",
       "25%          1564.000000           14.200000          NaN  \n",
       "50%          1724.000000           16.100000          NaN  \n",
       "75%          1913.000000           17.700000          NaN  \n",
       "max          2852.000000           26.600000          NaN  \n",
       "\n",
       "[8 rows x 25 columns]"
      ]
     },
     "execution_count": 39,
     "metadata": {},
     "output_type": "execute_result"
    }
   ],
   "source": [
    "df.describe()"
   ]
  },
  {
   "cell_type": "code",
   "execution_count": 41,
   "id": "c363b6cf",
   "metadata": {},
   "outputs": [
    {
     "data": {
      "text/html": [
       "<div>\n",
       "<style scoped>\n",
       "    .dataframe tbody tr th:only-of-type {\n",
       "        vertical-align: middle;\n",
       "    }\n",
       "\n",
       "    .dataframe tbody tr th {\n",
       "        vertical-align: top;\n",
       "    }\n",
       "\n",
       "    .dataframe thead th {\n",
       "        text-align: right;\n",
       "    }\n",
       "</style>\n",
       "<table border=\"1\" class=\"dataframe\">\n",
       "  <thead>\n",
       "    <tr style=\"text-align: right;\">\n",
       "      <th></th>\n",
       "      <th>last_name</th>\n",
       "      <th>first_name</th>\n",
       "      <th>player_id</th>\n",
       "      <th>year</th>\n",
       "      <th>p_k_percent</th>\n",
       "      <th>p_bb_percent</th>\n",
       "      <th>xwoba</th>\n",
       "      <th>z_swing_percent</th>\n",
       "      <th>z_swing_miss_percent</th>\n",
       "      <th>oz_swing_percent</th>\n",
       "      <th>...</th>\n",
       "      <th>fastball_avg_speed</th>\n",
       "      <th>fastball_avg_spin</th>\n",
       "      <th>fastball_avg_break</th>\n",
       "      <th>breaking_avg_speed</th>\n",
       "      <th>breaking_avg_spin</th>\n",
       "      <th>breaking_avg_break</th>\n",
       "      <th>offspeed_avg_speed</th>\n",
       "      <th>offspeed_avg_spin</th>\n",
       "      <th>offspeed_avg_break</th>\n",
       "      <th>Unnamed: 26</th>\n",
       "    </tr>\n",
       "  </thead>\n",
       "  <tbody>\n",
       "    <tr>\n",
       "      <th>3186</th>\n",
       "      <td>Rios</td>\n",
       "      <td>Yacksel</td>\n",
       "      <td>605441</td>\n",
       "      <td>2021</td>\n",
       "      <td>20.2</td>\n",
       "      <td>14.0</td>\n",
       "      <td>0.339</td>\n",
       "      <td>64.6</td>\n",
       "      <td>15.0</td>\n",
       "      <td>26.6</td>\n",
       "      <td>...</td>\n",
       "      <td>97.1</td>\n",
       "      <td>2087</td>\n",
       "      <td>19.0</td>\n",
       "      <td>86.5</td>\n",
       "      <td>2064.0</td>\n",
       "      <td>6.0</td>\n",
       "      <td>86.3</td>\n",
       "      <td>487.0</td>\n",
       "      <td>7.7</td>\n",
       "      <td>NaN</td>\n",
       "    </tr>\n",
       "  </tbody>\n",
       "</table>\n",
       "<p>1 rows × 27 columns</p>\n",
       "</div>"
      ],
      "text/plain": [
       "     last_name  first_name  player_id  year  p_k_percent  p_bb_percent  xwoba  \\\n",
       "3186      Rios     Yacksel     605441  2021         20.2          14.0  0.339   \n",
       "\n",
       "      z_swing_percent  z_swing_miss_percent  oz_swing_percent  ...  \\\n",
       "3186             64.6                  15.0              26.6  ...   \n",
       "\n",
       "      fastball_avg_speed  fastball_avg_spin  fastball_avg_break  \\\n",
       "3186                97.1               2087                19.0   \n",
       "\n",
       "      breaking_avg_speed  breaking_avg_spin  breaking_avg_break  \\\n",
       "3186                86.5             2064.0                 6.0   \n",
       "\n",
       "      offspeed_avg_speed  offspeed_avg_spin  offspeed_avg_break  Unnamed: 26  \n",
       "3186                86.3              487.0                 7.7          NaN  \n",
       "\n",
       "[1 rows x 27 columns]"
      ]
     },
     "execution_count": 41,
     "metadata": {},
     "output_type": "execute_result"
    }
   ],
   "source": [
    "df[df['offspeed_avg_spin']==487]"
   ]
  },
  {
   "cell_type": "code",
   "execution_count": 42,
   "id": "ed0420c7",
   "metadata": {},
   "outputs": [
    {
     "data": {
      "text/html": [
       "<div>\n",
       "<style scoped>\n",
       "    .dataframe tbody tr th:only-of-type {\n",
       "        vertical-align: middle;\n",
       "    }\n",
       "\n",
       "    .dataframe tbody tr th {\n",
       "        vertical-align: top;\n",
       "    }\n",
       "\n",
       "    .dataframe thead th {\n",
       "        text-align: right;\n",
       "    }\n",
       "</style>\n",
       "<table border=\"1\" class=\"dataframe\">\n",
       "  <thead>\n",
       "    <tr style=\"text-align: right;\">\n",
       "      <th></th>\n",
       "      <th>last_name</th>\n",
       "      <th>first_name</th>\n",
       "      <th>player_id</th>\n",
       "      <th>year</th>\n",
       "      <th>p_k_percent</th>\n",
       "      <th>p_bb_percent</th>\n",
       "      <th>xwoba</th>\n",
       "      <th>z_swing_percent</th>\n",
       "      <th>z_swing_miss_percent</th>\n",
       "      <th>oz_swing_percent</th>\n",
       "      <th>...</th>\n",
       "      <th>fastball_avg_speed</th>\n",
       "      <th>fastball_avg_spin</th>\n",
       "      <th>fastball_avg_break</th>\n",
       "      <th>breaking_avg_speed</th>\n",
       "      <th>breaking_avg_spin</th>\n",
       "      <th>breaking_avg_break</th>\n",
       "      <th>offspeed_avg_speed</th>\n",
       "      <th>offspeed_avg_spin</th>\n",
       "      <th>offspeed_avg_break</th>\n",
       "      <th>Unnamed: 26</th>\n",
       "    </tr>\n",
       "  </thead>\n",
       "  <tbody>\n",
       "    <tr>\n",
       "      <th>4197</th>\n",
       "      <td>Hirano</td>\n",
       "      <td>Yoshihisa</td>\n",
       "      <td>673633</td>\n",
       "      <td>2018</td>\n",
       "      <td>22.5</td>\n",
       "      <td>8.8</td>\n",
       "      <td>0.313</td>\n",
       "      <td>70.0</td>\n",
       "      <td>19.5</td>\n",
       "      <td>30.0</td>\n",
       "      <td>...</td>\n",
       "      <td>91.4</td>\n",
       "      <td>2214</td>\n",
       "      <td>19.5</td>\n",
       "      <td>82.5</td>\n",
       "      <td>881.0</td>\n",
       "      <td>6.3</td>\n",
       "      <td>83.3</td>\n",
       "      <td>1172.0</td>\n",
       "      <td>8.5</td>\n",
       "      <td>NaN</td>\n",
       "    </tr>\n",
       "  </tbody>\n",
       "</table>\n",
       "<p>1 rows × 27 columns</p>\n",
       "</div>"
      ],
      "text/plain": [
       "     last_name  first_name  player_id  year  p_k_percent  p_bb_percent  xwoba  \\\n",
       "4197    Hirano   Yoshihisa     673633  2018         22.5           8.8  0.313   \n",
       "\n",
       "      z_swing_percent  z_swing_miss_percent  oz_swing_percent  ...  \\\n",
       "4197             70.0                  19.5              30.0  ...   \n",
       "\n",
       "      fastball_avg_speed  fastball_avg_spin  fastball_avg_break  \\\n",
       "4197                91.4               2214                19.5   \n",
       "\n",
       "      breaking_avg_speed  breaking_avg_spin  breaking_avg_break  \\\n",
       "4197                82.5              881.0                 6.3   \n",
       "\n",
       "      offspeed_avg_speed  offspeed_avg_spin  offspeed_avg_break  Unnamed: 26  \n",
       "4197                83.3             1172.0                 8.5          NaN  \n",
       "\n",
       "[1 rows x 27 columns]"
      ]
     },
     "execution_count": 42,
     "metadata": {},
     "output_type": "execute_result"
    }
   ],
   "source": [
    "df[df['breaking_avg_spin']==881]"
   ]
  },
  {
   "cell_type": "code",
   "execution_count": 44,
   "id": "51c98ed3",
   "metadata": {},
   "outputs": [
    {
     "data": {
      "text/plain": [
       "<AxesSubplot:>"
      ]
     },
     "execution_count": 44,
     "metadata": {},
     "output_type": "execute_result"
    },
    {
     "data": {
      "image/png": "[encoded data removed]",
      "text/plain": [
       "<Figure size 432x288 with 1 Axes>"
      ]
     },
     "metadata": {
      "needs_background": "light"
     },
     "output_type": "display_data"
    }
   ],
   "source": [
    "df['breaking_avg_spin'].hist()"
   ]
  },
  {
   "cell_type": "code",
   "execution_count": 47,
   "id": "8184d8e5",
   "metadata": {},
   "outputs": [
    {
     "data": {
      "text/plain": [
       "<AxesSubplot:>"
      ]
     },
     "execution_count": 47,
     "metadata": {},
     "output_type": "execute_result"
    },
    {
     "data": {
      "image/png": "[encoded data removed]",
      "text/plain": [
       "<Figure size 432x288 with 1 Axes>"
      ]
     },
     "metadata": {
      "needs_background": "light"
     },
     "output_type": "display_data"
    }
   ],
   "source": [
    "df['breaking_avg_break'].hist()"
   ]
  },
  {
   "cell_type": "code",
   "execution_count": 48,
   "id": "9f3c8f43",
   "metadata": {},
   "outputs": [
    {
     "data": {
      "text/plain": [
       "<AxesSubplot:>"
      ]
     },
     "execution_count": 48,
     "metadata": {},
     "output_type": "execute_result"
    },
    {
     "data": {
      "image/png": "[encoded data removed]",
      "text/plain": [
       "<Figure size 432x288 with 1 Axes>"
      ]
     },
     "metadata": {
      "needs_background": "light"
     },
     "output_type": "display_data"
    }
   ],
   "source": [
    "df['offspeed_avg_spin'].hist()"
   ]
  },
  {
   "cell_type": "code",
   "execution_count": 49,
   "id": "fe649d53",
   "metadata": {},
   "outputs": [
    {
     "data": {
      "text/plain": [
       "<AxesSubplot:>"
      ]
     },
     "execution_count": 49,
     "metadata": {},
     "output_type": "execute_result"
    },
    {
     "data": {
      "image/png": "[encoded data removed]",
      "text/plain": [
       "<Figure size 432x288 with 1 Axes>"
      ]
     },
     "metadata": {
      "needs_background": "light"
     },
     "output_type": "display_data"
    }
   ],
   "source": [
    "df['offspeed_avg_break'].hist()"
   ]
  },
  {
   "cell_type": "code",
   "execution_count": 46,
   "id": "e5790738",
   "metadata": {},
   "outputs": [
    {
     "data": {
      "text/html": [
       "<div>\n",
       "<style scoped>\n",
       "    .dataframe tbody tr th:only-of-type {\n",
       "        vertical-align: middle;\n",
       "    }\n",
       "\n",
       "    .dataframe tbody tr th {\n",
       "        vertical-align: top;\n",
       "    }\n",
       "\n",
       "    .dataframe thead th {\n",
       "        text-align: right;\n",
       "    }\n",
       "</style>\n",
       "<table border=\"1\" class=\"dataframe\">\n",
       "  <thead>\n",
       "    <tr style=\"text-align: right;\">\n",
       "      <th></th>\n",
       "      <th>last_name</th>\n",
       "      <th>first_name</th>\n",
       "      <th>player_id</th>\n",
       "      <th>year</th>\n",
       "      <th>p_k_percent</th>\n",
       "      <th>p_bb_percent</th>\n",
       "      <th>xwoba</th>\n",
       "      <th>z_swing_percent</th>\n",
       "      <th>z_swing_miss_percent</th>\n",
       "      <th>oz_swing_percent</th>\n",
       "      <th>...</th>\n",
       "      <th>fastball_avg_speed</th>\n",
       "      <th>fastball_avg_spin</th>\n",
       "      <th>fastball_avg_break</th>\n",
       "      <th>breaking_avg_speed</th>\n",
       "      <th>breaking_avg_spin</th>\n",
       "      <th>breaking_avg_break</th>\n",
       "      <th>offspeed_avg_speed</th>\n",
       "      <th>offspeed_avg_spin</th>\n",
       "      <th>offspeed_avg_break</th>\n",
       "      <th>Unnamed: 26</th>\n",
       "    </tr>\n",
       "  </thead>\n",
       "  <tbody>\n",
       "    <tr>\n",
       "      <th>1058</th>\n",
       "      <td>Miranda</td>\n",
       "      <td>Ariel</td>\n",
       "      <td>664641</td>\n",
       "      <td>2016</td>\n",
       "      <td>19.0</td>\n",
       "      <td>7.8</td>\n",
       "      <td>0.336</td>\n",
       "      <td>67.5</td>\n",
       "      <td>15.7</td>\n",
       "      <td>22.4</td>\n",
       "      <td>...</td>\n",
       "      <td>93.1</td>\n",
       "      <td>2393</td>\n",
       "      <td>19.9</td>\n",
       "      <td>81.2</td>\n",
       "      <td>1187.0</td>\n",
       "      <td>9.1</td>\n",
       "      <td>83.8</td>\n",
       "      <td>1966.0</td>\n",
       "      <td>18.7</td>\n",
       "      <td>NaN</td>\n",
       "    </tr>\n",
       "    <tr>\n",
       "      <th>475</th>\n",
       "      <td>Dickey</td>\n",
       "      <td>R.A.</td>\n",
       "      <td>285079</td>\n",
       "      <td>2016</td>\n",
       "      <td>17.3</td>\n",
       "      <td>8.7</td>\n",
       "      <td>0.350</td>\n",
       "      <td>66.9</td>\n",
       "      <td>20.2</td>\n",
       "      <td>26.7</td>\n",
       "      <td>...</td>\n",
       "      <td>82.9</td>\n",
       "      <td>1889</td>\n",
       "      <td>17.4</td>\n",
       "      <td>76.6</td>\n",
       "      <td>1592.0</td>\n",
       "      <td>9.8</td>\n",
       "      <td>NaN</td>\n",
       "      <td>NaN</td>\n",
       "      <td>NaN</td>\n",
       "      <td>NaN</td>\n",
       "    </tr>\n",
       "    <tr>\n",
       "      <th>879</th>\n",
       "      <td>Light</td>\n",
       "      <td>Pat</td>\n",
       "      <td>572990</td>\n",
       "      <td>2016</td>\n",
       "      <td>17.6</td>\n",
       "      <td>17.6</td>\n",
       "      <td>0.352</td>\n",
       "      <td>57.1</td>\n",
       "      <td>17.0</td>\n",
       "      <td>24.4</td>\n",
       "      <td>...</td>\n",
       "      <td>95.7</td>\n",
       "      <td>1593</td>\n",
       "      <td>12.6</td>\n",
       "      <td>92.7</td>\n",
       "      <td>1414.0</td>\n",
       "      <td>7.8</td>\n",
       "      <td>86.2</td>\n",
       "      <td>946.0</td>\n",
       "      <td>7.4</td>\n",
       "      <td>NaN</td>\n",
       "    </tr>\n",
       "    <tr>\n",
       "      <th>776</th>\n",
       "      <td>Drake</td>\n",
       "      <td>Oliver</td>\n",
       "      <td>543118</td>\n",
       "      <td>2016</td>\n",
       "      <td>28.4</td>\n",
       "      <td>9.5</td>\n",
       "      <td>0.259</td>\n",
       "      <td>62.3</td>\n",
       "      <td>24.5</td>\n",
       "      <td>33.8</td>\n",
       "      <td>...</td>\n",
       "      <td>90.8</td>\n",
       "      <td>2192</td>\n",
       "      <td>20.7</td>\n",
       "      <td>82.1</td>\n",
       "      <td>929.0</td>\n",
       "      <td>8.4</td>\n",
       "      <td>82.8</td>\n",
       "      <td>953.0</td>\n",
       "      <td>10.3</td>\n",
       "      <td>NaN</td>\n",
       "    </tr>\n",
       "    <tr>\n",
       "      <th>673</th>\n",
       "      <td>Locke</td>\n",
       "      <td>Jeff</td>\n",
       "      <td>502046</td>\n",
       "      <td>2016</td>\n",
       "      <td>12.9</td>\n",
       "      <td>7.8</td>\n",
       "      <td>0.346</td>\n",
       "      <td>72.4</td>\n",
       "      <td>15.8</td>\n",
       "      <td>25.7</td>\n",
       "      <td>...</td>\n",
       "      <td>92.1</td>\n",
       "      <td>2078</td>\n",
       "      <td>19.0</td>\n",
       "      <td>79.3</td>\n",
       "      <td>1358.0</td>\n",
       "      <td>11.2</td>\n",
       "      <td>83.1</td>\n",
       "      <td>1506.0</td>\n",
       "      <td>12.6</td>\n",
       "      <td>NaN</td>\n",
       "    </tr>\n",
       "    <tr>\n",
       "      <th>1548</th>\n",
       "      <td>Garrett</td>\n",
       "      <td>Amir</td>\n",
       "      <td>607237</td>\n",
       "      <td>2017</td>\n",
       "      <td>19.6</td>\n",
       "      <td>12.5</td>\n",
       "      <td>0.366</td>\n",
       "      <td>69.4</td>\n",
       "      <td>13.3</td>\n",
       "      <td>22.0</td>\n",
       "      <td>...</td>\n",
       "      <td>91.6</td>\n",
       "      <td>1953</td>\n",
       "      <td>18.4</td>\n",
       "      <td>79.5</td>\n",
       "      <td>1578.0</td>\n",
       "      <td>7.1</td>\n",
       "      <td>80.8</td>\n",
       "      <td>1574.0</td>\n",
       "      <td>18.5</td>\n",
       "      <td>NaN</td>\n",
       "    </tr>\n",
       "    <tr>\n",
       "      <th>1653</th>\n",
       "      <td>Miranda</td>\n",
       "      <td>Ariel</td>\n",
       "      <td>664641</td>\n",
       "      <td>2017</td>\n",
       "      <td>20.2</td>\n",
       "      <td>9.3</td>\n",
       "      <td>0.334</td>\n",
       "      <td>71.0</td>\n",
       "      <td>20.3</td>\n",
       "      <td>23.4</td>\n",
       "      <td>...</td>\n",
       "      <td>92.1</td>\n",
       "      <td>2411</td>\n",
       "      <td>23.7</td>\n",
       "      <td>80.6</td>\n",
       "      <td>1319.0</td>\n",
       "      <td>13.2</td>\n",
       "      <td>83.8</td>\n",
       "      <td>2101.0</td>\n",
       "      <td>22.1</td>\n",
       "      <td>NaN</td>\n",
       "    </tr>\n",
       "    <tr>\n",
       "      <th>1065</th>\n",
       "      <td>Dickey</td>\n",
       "      <td>R.A.</td>\n",
       "      <td>285079</td>\n",
       "      <td>2017</td>\n",
       "      <td>16.7</td>\n",
       "      <td>8.2</td>\n",
       "      <td>0.318</td>\n",
       "      <td>65.8</td>\n",
       "      <td>18.4</td>\n",
       "      <td>26.7</td>\n",
       "      <td>...</td>\n",
       "      <td>83.6</td>\n",
       "      <td>1878</td>\n",
       "      <td>19.9</td>\n",
       "      <td>77.3</td>\n",
       "      <td>1530.0</td>\n",
       "      <td>9.5</td>\n",
       "      <td>NaN</td>\n",
       "      <td>NaN</td>\n",
       "      <td>NaN</td>\n",
       "      <td>NaN</td>\n",
       "    </tr>\n",
       "    <tr>\n",
       "      <th>1131</th>\n",
       "      <td>Wright</td>\n",
       "      <td>Steven</td>\n",
       "      <td>453214</td>\n",
       "      <td>2017</td>\n",
       "      <td>11.4</td>\n",
       "      <td>4.4</td>\n",
       "      <td>0.402</td>\n",
       "      <td>67.6</td>\n",
       "      <td>11.4</td>\n",
       "      <td>24.4</td>\n",
       "      <td>...</td>\n",
       "      <td>83.9</td>\n",
       "      <td>1890</td>\n",
       "      <td>19.2</td>\n",
       "      <td>72.6</td>\n",
       "      <td>1516.0</td>\n",
       "      <td>8.1</td>\n",
       "      <td>NaN</td>\n",
       "      <td>NaN</td>\n",
       "      <td>NaN</td>\n",
       "      <td>NaN</td>\n",
       "    </tr>\n",
       "    <tr>\n",
       "      <th>4197</th>\n",
       "      <td>Hirano</td>\n",
       "      <td>Yoshihisa</td>\n",
       "      <td>673633</td>\n",
       "      <td>2018</td>\n",
       "      <td>22.5</td>\n",
       "      <td>8.8</td>\n",
       "      <td>0.313</td>\n",
       "      <td>70.0</td>\n",
       "      <td>19.5</td>\n",
       "      <td>30.0</td>\n",
       "      <td>...</td>\n",
       "      <td>91.4</td>\n",
       "      <td>2214</td>\n",
       "      <td>19.5</td>\n",
       "      <td>82.5</td>\n",
       "      <td>881.0</td>\n",
       "      <td>6.3</td>\n",
       "      <td>83.3</td>\n",
       "      <td>1172.0</td>\n",
       "      <td>8.5</td>\n",
       "      <td>NaN</td>\n",
       "    </tr>\n",
       "  </tbody>\n",
       "</table>\n",
       "<p>10 rows × 27 columns</p>\n",
       "</div>"
      ],
      "text/plain": [
       "     last_name  first_name  player_id  year  p_k_percent  p_bb_percent  xwoba  \\\n",
       "1058   Miranda       Ariel     664641  2016         19.0           7.8  0.336   \n",
       "475     Dickey        R.A.     285079  2016         17.3           8.7  0.350   \n",
       "879      Light         Pat     572990  2016         17.6          17.6  0.352   \n",
       "776      Drake      Oliver     543118  2016         28.4           9.5  0.259   \n",
       "673      Locke        Jeff     502046  2016         12.9           7.8  0.346   \n",
       "1548   Garrett        Amir     607237  2017         19.6          12.5  0.366   \n",
       "1653   Miranda       Ariel     664641  2017         20.2           9.3  0.334   \n",
       "1065    Dickey        R.A.     285079  2017         16.7           8.2  0.318   \n",
       "1131    Wright      Steven     453214  2017         11.4           4.4  0.402   \n",
       "4197    Hirano   Yoshihisa     673633  2018         22.5           8.8  0.313   \n",
       "\n",
       "      z_swing_percent  z_swing_miss_percent  oz_swing_percent  ...  \\\n",
       "1058             67.5                  15.7              22.4  ...   \n",
       "475              66.9                  20.2              26.7  ...   \n",
       "879              57.1                  17.0              24.4  ...   \n",
       "776              62.3                  24.5              33.8  ...   \n",
       "673              72.4                  15.8              25.7  ...   \n",
       "1548             69.4                  13.3              22.0  ...   \n",
       "1653             71.0                  20.3              23.4  ...   \n",
       "1065             65.8                  18.4              26.7  ...   \n",
       "1131             67.6                  11.4              24.4  ...   \n",
       "4197             70.0                  19.5              30.0  ...   \n",
       "\n",
       "      fastball_avg_speed  fastball_avg_spin  fastball_avg_break  \\\n",
       "1058                93.1               2393                19.9   \n",
       "475                 82.9               1889                17.4   \n",
       "879                 95.7               1593                12.6   \n",
       "776                 90.8               2192                20.7   \n",
       "673                 92.1               2078                19.0   \n",
       "1548                91.6               1953                18.4   \n",
       "1653                92.1               2411                23.7   \n",
       "1065                83.6               1878                19.9   \n",
       "1131                83.9               1890                19.2   \n",
       "4197                91.4               2214                19.5   \n",
       "\n",
       "      breaking_avg_speed  breaking_avg_spin  breaking_avg_break  \\\n",
       "1058                81.2             1187.0                 9.1   \n",
       "475                 76.6             1592.0                 9.8   \n",
       "879                 92.7             1414.0                 7.8   \n",
       "776                 82.1              929.0                 8.4   \n",
       "673                 79.3             1358.0                11.2   \n",
       "1548                79.5             1578.0                 7.1   \n",
       "1653                80.6             1319.0                13.2   \n",
       "1065                77.3             1530.0                 9.5   \n",
       "1131                72.6             1516.0                 8.1   \n",
       "4197                82.5              881.0                 6.3   \n",
       "\n",
       "      offspeed_avg_speed  offspeed_avg_spin  offspeed_avg_break  Unnamed: 26  \n",
       "1058                83.8             1966.0                18.7          NaN  \n",
       "475                  NaN                NaN                 NaN          NaN  \n",
       "879                 86.2              946.0                 7.4          NaN  \n",
       "776                 82.8              953.0                10.3          NaN  \n",
       "673                 83.1             1506.0                12.6          NaN  \n",
       "1548                80.8             1574.0                18.5          NaN  \n",
       "1653                83.8             2101.0                22.1          NaN  \n",
       "1065                 NaN                NaN                 NaN          NaN  \n",
       "1131                 NaN                NaN                 NaN          NaN  \n",
       "4197                83.3             1172.0                 8.5          NaN  \n",
       "\n",
       "[10 rows x 27 columns]"
      ]
     },
     "execution_count": 46,
     "metadata": {},
     "output_type": "execute_result"
    }
   ],
   "source": [
    "df[(df['breaking_avg_spin']>800)&(df['breaking_avg_spin']<1600)]"
   ]
  }
 ],
 "metadata": {
  "kernelspec": {
   "display_name": "Python 3 (ipykernel)",
   "language": "python",
   "name": "python3"
  },
  "language_info": {
   "codemirror_mode": {
    "name": "ipython",
    "version": 3
   },
   "file_extension": ".py",
   "mimetype": "text/x-python",
   "name": "python",
   "nbconvert_exporter": "python",
   "pygments_lexer": "ipython3",
   "version": "3.10.7"
  }
 },
 "nbformat": 4,
 "nbformat_minor": 5
}
