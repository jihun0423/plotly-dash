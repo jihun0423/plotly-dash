{
 "cells": [
  {
   "cell_type": "code",
   "execution_count": 10,
   "id": "c9be2fd2",
   "metadata": {},
   "outputs": [],
   "source": [
    "import dash\n",
    "import dash_core_components as dcc\n",
    "import dash_html_components as html\n",
    "import pandas as pd\n",
    "import plotly.graph_objs as go\n",
    "from dash import Dash, html, dash_table\n",
    "from jupyter_dash import JupyterDash\n",
    "import pandas as pd"
   ]
  },
  {
   "cell_type": "code",
   "execution_count": null,
   "id": "cdbddc69",
   "metadata": {},
   "outputs": [],
   "source": [
    "df = pd.read_csv('C:\\\\Users\\\\jihun\\\\Downloads\\\\stats (7).csv')"
   ]
  },
  {
   "cell_type": "code",
   "execution_count": 4,
   "id": "8fe1b4e1",
   "metadata": {},
   "outputs": [
    {
     "name": "stdout",
     "output_type": "stream",
     "text": [
      "Dash is running on http://127.0.0.1:8050/\n",
      "\n",
      "Dash app running on http://127.0.0.1:8050/\n"
     ]
    }
   ],
   "source": [
    "# Import packages\n",
    "from dash import Dash, html, dash_table\n",
    "from jupyter_dash import JupyterDash\n",
    "import pandas as pd\n",
    "\n",
    "# Incorporate data\n",
    "df = pd.read_csv('C:\\\\Users\\\\jihun\\\\Downloads\\\\stats (7).csv')\n",
    "available_indicators = df['Indicator Name'].unique()\n",
    "\n",
    "# Initialize the app\n",
    "app = JupyterDash(__name__)\n",
    "\n",
    "# App layout\n",
    "app.layout = html.Div([\n",
    "    html.Div(children='My First App with Data'),\n",
    "    dash_table.DataTable(data=df.to_dict('records'), page_size=10)\n",
    "])\n",
    "\n",
    "# Run the app\n",
    "if __name__ == '__main__':\n",
    "    app.run_server(debug=True)"
   ]
  },
  {
   "cell_type": "code",
   "execution_count": null,
   "id": "16c1a841",
   "metadata": {},
   "outputs": [],
   "source": []
  },
  {
   "cell_type": "code",
   "execution_count": 39,
   "id": "8211f587",
   "metadata": {},
   "outputs": [],
   "source": [
    "df = pd.read_csv('C:\\\\Users\\\\jihun\\\\Downloads\\\\stats (7).csv')"
   ]
  },
  {
   "cell_type": "code",
   "execution_count": 24,
   "id": "6f5e9796",
   "metadata": {},
   "outputs": [
    {
     "data": {
      "text/plain": [
       "Index(['last_name', ' first_name', 'player_id', 'year', 'p_k_percent',\n",
       "       'p_bb_percent', 'xwoba', 'z_swing_percent', 'z_swing_miss_percent',\n",
       "       'oz_swing_percent', 'oz_swing_miss_percent', 'oz_contact_percent',\n",
       "       'out_zone_percent', 'iz_contact_percent', 'in_zone_percent',\n",
       "       'edge_percent', 'whiff_percent', 'fastball_avg_speed',\n",
       "       'fastball_avg_spin', 'fastball_avg_break', 'breaking_avg_speed',\n",
       "       'breaking_avg_spin', 'breaking_avg_break', 'offspeed_avg_speed',\n",
       "       'offspeed_avg_spin', 'offspeed_avg_break', 'Unnamed: 26'],\n",
       "      dtype='object')"
      ]
     },
     "execution_count": 24,
     "metadata": {},
     "output_type": "execute_result"
    }
   ],
   "source": [
    "df.columns"
   ]
  },
  {
   "cell_type": "code",
   "execution_count": 40,
   "id": "b3c17f50",
   "metadata": {},
   "outputs": [],
   "source": [
    "numerical_col = ['p_k_percent',\n",
    "       'p_bb_percent', 'xwoba', 'z_swing_percent', 'z_swing_miss_percent',\n",
    "       'oz_swing_percent', 'oz_swing_miss_percent', 'oz_contact_percent',\n",
    "       'out_zone_percent', 'iz_contact_percent', 'in_zone_percent',\n",
    "       'edge_percent', 'whiff_percent', 'fastball_avg_speed',\n",
    "       'fastball_avg_spin', 'fastball_avg_break', 'breaking_avg_speed',\n",
    "       'breaking_avg_spin', 'breaking_avg_break', 'offspeed_avg_speed',\n",
    "       'offspeed_avg_spin', 'offspeed_avg_break']"
   ]
  },
  {
   "cell_type": "code",
   "execution_count": 42,
   "id": "800770b8",
   "metadata": {},
   "outputs": [
    {
     "name": "stdout",
     "output_type": "stream",
     "text": [
      "Dash is running on http://127.0.0.1:8050/\n",
      "\n",
      "Dash app running on http://127.0.0.1:8050/\n"
     ]
    }
   ],
   "source": [
    "external_stylesheets = ['https://codepen.io/chriddyp/pen/bWLwgP.css']\n",
    "app = JupyterDash(__name__, external_stylesheets=[dbc.themes.BOOTSTRAP])\n",
    "# app = JupyterDash(__name__,external_stylesheets=external_stylesheets)\n",
    "app.layout = html.Div([\n",
    "    html.Div([\n",
    "\n",
    "        html.Div([\n",
    "            dcc.Dropdown(\n",
    "                id='xaxis-column',\n",
    "                options=numerical_col,\n",
    "                value=numerical_col[0],\n",
    "                placeholder=\"Select X-axis column\"\n",
    "            ),\n",
    "            dcc.RadioItems(\n",
    "                id='xaxis-type',\n",
    "                options=[{'label': i, 'value': i} for i in ['Linear', 'Log']],\n",
    "                value='Linear',\n",
    "                labelStyle={'display': 'inline-block'}\n",
    "            )\n",
    "        ],\n",
    "        style={'width': '48%', 'display': 'inline-block'}),\n",
    "\n",
    "        html.Div([\n",
    "            dcc.Dropdown(\n",
    "                id='yaxis-column',\n",
    "                options=numerical_col,\n",
    "                value=numerical_col[1]\n",
    "            ),\n",
    "            dcc.RadioItems(\n",
    "                id='yaxis-type',\n",
    "                options=[{'label': i, 'value': i} for i in ['Linear', 'Log']],\n",
    "                value='Linear',\n",
    "                labelStyle={'display': 'inline-block'}\n",
    "            )\n",
    "        ],style={'width': '48%', 'float': 'right', 'display': 'inline-block'})\n",
    "    ]),\n",
    "\n",
    "    dcc.Graph(id='indicator-graphic'),\n",
    "\n",
    "    dcc.Slider(\n",
    "        id='year--slider',\n",
    "        min=df['year'].min(),\n",
    "        max=df['year'].max(),\n",
    "        value=df['year'].max(),\n",
    "        marks={str(year): str(year) for year in df['year'].unique()}\n",
    "    )\n",
    "])\n",
    "\n",
    "# Callbacks\n",
    "@app.callback(\n",
    "    dash.dependencies.Output('indicator-graphic', 'figure'),\n",
    "    [dash.dependencies.Input('xaxis-column', 'value'),\n",
    "     dash.dependencies.Input('yaxis-column', 'value'),\n",
    "     dash.dependencies.Input('xaxis-type', 'value'),\n",
    "     dash.dependencies.Input('yaxis-type', 'value'),\n",
    "     dash.dependencies.Input('year--slider', 'value')])\n",
    "def update_graph(xaxis_column_name, yaxis_column_name,\n",
    "                 xaxis_type, yaxis_type,\n",
    "                 year_value):\n",
    "    dff = df[df['year'] == year_value]\n",
    "    return {\n",
    "        'data': [go.Scatter(\n",
    "            x=dff[xaxis_column_name],\n",
    "            y=dff[yaxis_column_name],\n",
    "            text=dff['last_name'],\n",
    "            mode='markers',\n",
    "            marker={\n",
    "                'size': 10,\n",
    "                'opacity': 1,\n",
    "                'color': 'blue',\n",
    "                'line': {'width': 2}\n",
    "            }\n",
    "        )],\n",
    "        'layout': go.Layout(\n",
    "            xaxis={\n",
    "                'title': xaxis_column_name,\n",
    "                'type': 'linear' if xaxis_type == 'Linear' else 'log'\n",
    "            },\n",
    "            yaxis={\n",
    "                'title': yaxis_column_name,\n",
    "                'type': 'linear' if yaxis_type == 'Linear' else 'log'\n",
    "            },\n",
    "            margin={'l': 40, 'b': 40, 't': 10, 'r': 0},\n",
    "            hovermode='closest',\n",
    "        )\n",
    "    }\n",
    "\n",
    "# viewer.show(app)\n",
    "if __name__ == '__main__':\n",
    "    app.run_server(debug=True)"
   ]
  },
  {
   "cell_type": "code",
   "execution_count": null,
   "id": "c368b9c5",
   "metadata": {},
   "outputs": [],
   "source": []
  },
  {
   "cell_type": "code",
   "execution_count": null,
   "id": "ea937918",
   "metadata": {},
   "outputs": [],
   "source": []
  },
  {
   "cell_type": "code",
   "execution_count": null,
   "id": "98a314b6",
   "metadata": {},
   "outputs": [],
   "source": []
  },
  {
   "cell_type": "code",
   "execution_count": 43,
   "id": "c3c267d0",
   "metadata": {},
   "outputs": [
    {
     "name": "stdout",
     "output_type": "stream",
     "text": [
      "Dash is running on http://127.0.0.1:8050/\n",
      "\n",
      "Dash app running on http://127.0.0.1:8050/\n"
     ]
    }
   ],
   "source": [
    "from dash import Dash, html, dcc\n",
    "import dash_bootstrap_components as dbc\n",
    "from dash_bootstrap_templates import load_figure_template\n",
    "import plotly.express as px\n",
    "import dash\n",
    "import pandas as pd\n",
    "import plotly.graph_objs as go\n",
    "from jupyter_dash import JupyterDash\n",
    "\n",
    "df = px.data.gapminder()\n",
    "\n",
    "templates = [\n",
    "    \"bootstrap\",\n",
    "    \"minty\",\n",
    "    \"pulse\",\n",
    "    \"flatly\",\n",
    "    \"quartz\",\n",
    "    \"cyborg\",\n",
    "    \"darkly\",\n",
    "    \"vapor\",\n",
    "]\n",
    "\n",
    "load_figure_template(templates)\n",
    "\n",
    "figures = [\n",
    "    px.scatter(\n",
    "        df.query(\"year==2007\"),\n",
    "        x=\"gdpPercap\",\n",
    "        y=\"lifeExp\",\n",
    "        size=\"pop\",\n",
    "        color=\"continent\",\n",
    "        log_x=True,\n",
    "        size_max=60,\n",
    "        template=template,\n",
    "        title=\"Gapminder 2007: '%s' theme\" % template,\n",
    "    )\n",
    "    for template in templates\n",
    "]\n",
    "\n",
    "dbc_css = (\"https://cdn.jsdelivr.net/gh/AnnMarieW/dash-bootstrap-templates@V1.0.2/dbc.min.css\")\n",
    "app = JupyterDash(__name__, external_stylesheets=[dbc.themes.BOOTSTRAP, dbc_css])\n",
    "\n",
    "app.layout = dbc.Container([dcc.Graph(figure=fig, className=\"m-4\") for fig in figures])\n",
    "\n",
    "if __name__ == \"__main__\":\n",
    "    app.run_server(debug=True)"
   ]
  },
  {
   "cell_type": "code",
   "execution_count": null,
   "id": "4084788e",
   "metadata": {},
   "outputs": [],
   "source": []
  },
  {
   "cell_type": "code",
   "execution_count": null,
   "id": "59e58d77",
   "metadata": {},
   "outputs": [],
   "source": []
  },
  {
   "cell_type": "code",
   "execution_count": null,
   "id": "51c98ed3",
   "metadata": {},
   "outputs": [],
   "source": []
  },
  {
   "cell_type": "code",
   "execution_count": null,
   "id": "e5790738",
   "metadata": {},
   "outputs": [],
   "source": []
  }
 ],
 "metadata": {
  "kernelspec": {
   "display_name": "Python 3 (ipykernel)",
   "language": "python",
   "name": "python3"
  },
  "language_info": {
   "codemirror_mode": {
    "name": "ipython",
    "version": 3
   },
   "file_extension": ".py",
   "mimetype": "text/x-python",
   "name": "python",
   "nbconvert_exporter": "python",
   "pygments_lexer": "ipython3",
   "version": "3.10.7"
  }
 },
 "nbformat": 4,
 "nbformat_minor": 5
}
